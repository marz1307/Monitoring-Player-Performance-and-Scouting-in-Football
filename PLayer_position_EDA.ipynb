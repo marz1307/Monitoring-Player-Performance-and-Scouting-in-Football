{
  "cells": [
    {
      "cell_type": "markdown",
      "metadata": {
        "id": "view-in-github",
        "colab_type": "text"
      },
      "source": [
        "<a href=\"https://colab.research.google.com/github/marz1307/Monitoring-Player-Performance-and-Scouting-in-Football/blob/main/PLayer_position_EDA.ipynb\" target=\"_parent\"><img src=\"https://colab.research.google.com/assets/colab-badge.svg\" alt=\"Open In Colab\"/></a>"
      ]
    },
    {
      "cell_type": "code",
      "execution_count": null,
      "metadata": {
        "colab": {
          "base_uri": "https://localhost:8080/"
        },
        "id": "Aegpq0l66SeB",
        "outputId": "5f4002fe-5620-434b-db79-35cd22e7ec6a"
      },
      "outputs": [
        {
          "output_type": "stream",
          "name": "stdout",
          "text": [
            "Looking in indexes: https://pypi.org/simple, https://us-python.pkg.dev/colab-wheels/public/simple/\n",
            "Requirement already satisfied: pandas in /usr/local/lib/python3.8/dist-packages (1.3.5)\n",
            "Requirement already satisfied: pytz>=2017.3 in /usr/local/lib/python3.8/dist-packages (from pandas) (2022.6)\n",
            "Requirement already satisfied: python-dateutil>=2.7.3 in /usr/local/lib/python3.8/dist-packages (from pandas) (2.8.2)\n",
            "Requirement already satisfied: numpy>=1.17.3 in /usr/local/lib/python3.8/dist-packages (from pandas) (1.21.6)\n",
            "Requirement already satisfied: six>=1.5 in /usr/local/lib/python3.8/dist-packages (from python-dateutil>=2.7.3->pandas) (1.15.0)\n",
            "[Errno 2] No such file or directory: '/content/sample_data/test'\n",
            "/content\n"
          ]
        }
      ],
      "source": [
        "!pip3 install pandas\n",
        "%cd /content/sample_data/test"
      ]
    },
    {
      "cell_type": "code",
      "source": [
        "!pwd"
      ],
      "metadata": {
        "colab": {
          "base_uri": "https://localhost:8080/"
        },
        "id": "PAKWuWFtU1fO",
        "outputId": "a11c3931-94c4-40bf-81ab-a4790eb18d32"
      },
      "execution_count": null,
      "outputs": [
        {
          "output_type": "stream",
          "name": "stdout",
          "text": [
            "/content\n"
          ]
        }
      ]
    },
    {
      "cell_type": "markdown",
      "source": [
        "Unzipped the **data**"
      ],
      "metadata": {
        "id": "ydUEhgXduDhQ"
      }
    },
    {
      "cell_type": "code",
      "source": [
        "!mkdir /content/sample_data/test\n",
        "%cd /content/sample_data/test\n",
        "!cp /content/drive/MyDrive/turk/Data.zip /content/sample_data\n",
        "!unzip /content/sample_data/Data.zip"
      ],
      "metadata": {
        "colab": {
          "base_uri": "https://localhost:8080/"
        },
        "id": "sw9dSrRQ7oYQ",
        "outputId": "10817af6-1fbe-4986-9718-c7ae06b71fe0"
      },
      "execution_count": null,
      "outputs": [
        {
          "output_type": "stream",
          "name": "stdout",
          "text": [
            "/content/sample_data/test\n",
            "Archive:  /content/sample_data/Data.zip\n",
            "   creating: Data/\n",
            "  inflating: __MACOSX/._Data         \n",
            "  inflating: Data/matches_Germany.csv  \n",
            "  inflating: __MACOSX/Data/._matches_Germany.csv  \n",
            "  inflating: Data/matches_Spain.csv  \n",
            "  inflating: __MACOSX/Data/._matches_Spain.csv  \n",
            "  inflating: Data/events_Spain.csv   \n",
            "  inflating: __MACOSX/Data/._events_Spain.csv  \n",
            "  inflating: Data/labels.csv         \n",
            "  inflating: __MACOSX/Data/._labels.csv  \n",
            "  inflating: Data/competitions.csv   \n",
            "  inflating: __MACOSX/Data/._competitions.csv  \n",
            "  inflating: Data/teams.csv          \n",
            "  inflating: __MACOSX/Data/._teams.csv  \n",
            "  inflating: Data/referees.csv       \n",
            "  inflating: __MACOSX/Data/._referees.csv  \n",
            "  inflating: Data/matches_European_Championship.csv  \n",
            "  inflating: __MACOSX/Data/._matches_European_Championship.csv  \n",
            "  inflating: Data/coaches.csv        \n",
            "  inflating: __MACOSX/Data/._coaches.csv  \n",
            "  inflating: Data/matches_Italy.csv  \n",
            "  inflating: __MACOSX/Data/._matches_Italy.csv  \n",
            "  inflating: Data/events_Italy.csv   \n",
            "  inflating: __MACOSX/Data/._events_Italy.csv  \n",
            "  inflating: Data/matches_France.csv  \n",
            "  inflating: __MACOSX/Data/._matches_France.csv  \n",
            "  inflating: Data/events_England.csv  \n",
            "  inflating: __MACOSX/Data/._events_England.csv  \n",
            "  inflating: Data/events_World_Cup.csv  \n",
            "  inflating: __MACOSX/Data/._events_World_Cup.csv  \n",
            "  inflating: Data/matches_World_Cup.csv  \n",
            "  inflating: __MACOSX/Data/._matches_World_Cup.csv  \n",
            "  inflating: Data/players.csv        \n",
            "  inflating: __MACOSX/Data/._players.csv  \n",
            "  inflating: Data/games.csv          \n",
            "  inflating: __MACOSX/Data/._games.csv  \n",
            "  inflating: Data/events_Germany.csv  \n",
            "  inflating: __MACOSX/Data/._events_Germany.csv  \n",
            "  inflating: Data/playerank.csv      \n",
            "  inflating: __MACOSX/Data/._playerank.csv  \n",
            "  inflating: Data/events_France.csv  \n",
            "  inflating: __MACOSX/Data/._events_France.csv  \n",
            "  inflating: Data/features.csv       \n",
            "  inflating: __MACOSX/Data/._features.csv  \n",
            "  inflating: Data/matches_England.csv  \n",
            "  inflating: __MACOSX/Data/._matches_England.csv  \n",
            "  inflating: Data/player_games.csv   \n",
            "  inflating: __MACOSX/Data/._player_games.csv  \n",
            "  inflating: Data/tags2name.csv      \n",
            "  inflating: __MACOSX/Data/._tags2name.csv  \n",
            "  inflating: Data/eventid2name.csv   \n",
            "  inflating: __MACOSX/Data/._eventid2name.csv  \n",
            "  inflating: Data/events_European_Championship.csv  \n",
            "  inflating: __MACOSX/Data/._events_European_Championship.csv  \n",
            "  inflating: Data/actions.csv        \n",
            "  inflating: __MACOSX/Data/._actions.csv  \n"
          ]
        }
      ]
    },
    {
      "cell_type": "code",
      "source": [
        "%cd /content/sample_data/test"
      ],
      "metadata": {
        "colab": {
          "base_uri": "https://localhost:8080/"
        },
        "id": "_Mqoqzid7CeK",
        "outputId": "8d533746-f9c6-411f-864f-51dc8effe7e8"
      },
      "execution_count": null,
      "outputs": [
        {
          "output_type": "stream",
          "name": "stdout",
          "text": [
            "/content/sample_data/test\n"
          ]
        }
      ]
    },
    {
      "cell_type": "markdown",
      "source": [
        "create a vector , direction .....distance to goal as magnitude and action type as a third value"
      ],
      "metadata": {
        "id": "BAlxXreCD0_u"
      }
    },
    {
      "cell_type": "markdown",
      "source": [
        "Exploring the data\n",
        "\n",
        "---\n",
        "Discovered that the data size caused frequent crashes when attempting to load the feature.csv file in my IDE. As a workaround, I opted to load the data in 10,000-feature chunks.\n",
        "\n"
      ],
      "metadata": {
        "id": "0MsU9dWYuK5e"
      }
    },
    {
      "cell_type": "code",
      "execution_count": null,
      "metadata": {
        "colab": {
          "base_uri": "https://localhost:8080/",
          "height": 317
        },
        "id": "Qd6YHYeE6SeM",
        "outputId": "302b77db-f6a0-43ec-b479-95a35c2fa0a8"
      },
      "outputs": [
        {
          "output_type": "execute_result",
          "data": {
            "text/plain": [
              "   Unnamed: 0  game_id-0  period_id-0  time_seconds-0  team_id-0  player_id-0  \\\n",
              "0           0    2500089            1        2.763597       1659         9637   \n",
              "1           1    2500089            1        4.761353       1659         8351   \n",
              "2           2    2500089            1        5.533097       1659         9285   \n",
              "3           3    2500089            1        7.707561       1659       239411   \n",
              "4           4    2500089            1       11.614943       1659         9637   \n",
              "\n",
              "   start_x-0  start_y-0  end_x-0  end_y-0  ...  distance_covered-2  \\\n",
              "0      52.50      34.00    63.00    30.60  ...                 NaN   \n",
              "1      63.00      30.60    64.05    10.20  ...                 NaN   \n",
              "2      64.05      10.20    72.45    20.40  ...           11.036757   \n",
              "3      72.45      20.40    35.70    19.04  ...           20.427004   \n",
              "4      35.70      19.04    30.45    12.24  ...           13.213629   \n",
              "\n",
              "   end_x_norm-2  end_y_norm-2 end_distance_to_goal-2 end_angle_to_goal-2  \\\n",
              "0           NaN           NaN                    NaN                 NaN   \n",
              "1           NaN           NaN                    NaN                 NaN   \n",
              "2          0.60          0.45              42.137394           12.352941   \n",
              "3          0.61          0.15              47.363937            1.720588   \n",
              "4          0.69          0.30              35.276940            2.393382   \n",
              "\n",
              "  xdiff_sequence_pre  ydiff_sequence_pre  time_sequence_pre  \\\n",
              "0                NaN                 NaN                NaN   \n",
              "1                NaN                 NaN                NaN   \n",
              "2              11.55              -23.80           2.769500   \n",
              "3               9.45              -10.20           2.946208   \n",
              "4             -28.35                8.84           6.081846   \n",
              "\n",
              "   xdiff_sequence_post  ydiff_sequence_post  \n",
              "0                  NaN                  NaN  \n",
              "1                  NaN                  NaN  \n",
              "2                19.95               -13.60  \n",
              "3               -27.30               -11.56  \n",
              "4               -33.60                 2.04  \n",
              "\n",
              "[5 rows x 89 columns]"
            ],
            "text/html": [
              "\n",
              "  <div id=\"df-80025aef-b86e-4950-88db-bf3ec303f0ed\">\n",
              "    <div class=\"colab-df-container\">\n",
              "      <div>\n",
              "<style scoped>\n",
              "    .dataframe tbody tr th:only-of-type {\n",
              "        vertical-align: middle;\n",
              "    }\n",
              "\n",
              "    .dataframe tbody tr th {\n",
              "        vertical-align: top;\n",
              "    }\n",
              "\n",
              "    .dataframe thead th {\n",
              "        text-align: right;\n",
              "    }\n",
              "</style>\n",
              "<table border=\"1\" class=\"dataframe\">\n",
              "  <thead>\n",
              "    <tr style=\"text-align: right;\">\n",
              "      <th></th>\n",
              "      <th>Unnamed: 0</th>\n",
              "      <th>game_id-0</th>\n",
              "      <th>period_id-0</th>\n",
              "      <th>time_seconds-0</th>\n",
              "      <th>team_id-0</th>\n",
              "      <th>player_id-0</th>\n",
              "      <th>start_x-0</th>\n",
              "      <th>start_y-0</th>\n",
              "      <th>end_x-0</th>\n",
              "      <th>end_y-0</th>\n",
              "      <th>...</th>\n",
              "      <th>distance_covered-2</th>\n",
              "      <th>end_x_norm-2</th>\n",
              "      <th>end_y_norm-2</th>\n",
              "      <th>end_distance_to_goal-2</th>\n",
              "      <th>end_angle_to_goal-2</th>\n",
              "      <th>xdiff_sequence_pre</th>\n",
              "      <th>ydiff_sequence_pre</th>\n",
              "      <th>time_sequence_pre</th>\n",
              "      <th>xdiff_sequence_post</th>\n",
              "      <th>ydiff_sequence_post</th>\n",
              "    </tr>\n",
              "  </thead>\n",
              "  <tbody>\n",
              "    <tr>\n",
              "      <th>0</th>\n",
              "      <td>0</td>\n",
              "      <td>2500089</td>\n",
              "      <td>1</td>\n",
              "      <td>2.763597</td>\n",
              "      <td>1659</td>\n",
              "      <td>9637</td>\n",
              "      <td>52.50</td>\n",
              "      <td>34.00</td>\n",
              "      <td>63.00</td>\n",
              "      <td>30.60</td>\n",
              "      <td>...</td>\n",
              "      <td>NaN</td>\n",
              "      <td>NaN</td>\n",
              "      <td>NaN</td>\n",
              "      <td>NaN</td>\n",
              "      <td>NaN</td>\n",
              "      <td>NaN</td>\n",
              "      <td>NaN</td>\n",
              "      <td>NaN</td>\n",
              "      <td>NaN</td>\n",
              "      <td>NaN</td>\n",
              "    </tr>\n",
              "    <tr>\n",
              "      <th>1</th>\n",
              "      <td>1</td>\n",
              "      <td>2500089</td>\n",
              "      <td>1</td>\n",
              "      <td>4.761353</td>\n",
              "      <td>1659</td>\n",
              "      <td>8351</td>\n",
              "      <td>63.00</td>\n",
              "      <td>30.60</td>\n",
              "      <td>64.05</td>\n",
              "      <td>10.20</td>\n",
              "      <td>...</td>\n",
              "      <td>NaN</td>\n",
              "      <td>NaN</td>\n",
              "      <td>NaN</td>\n",
              "      <td>NaN</td>\n",
              "      <td>NaN</td>\n",
              "      <td>NaN</td>\n",
              "      <td>NaN</td>\n",
              "      <td>NaN</td>\n",
              "      <td>NaN</td>\n",
              "      <td>NaN</td>\n",
              "    </tr>\n",
              "    <tr>\n",
              "      <th>2</th>\n",
              "      <td>2</td>\n",
              "      <td>2500089</td>\n",
              "      <td>1</td>\n",
              "      <td>5.533097</td>\n",
              "      <td>1659</td>\n",
              "      <td>9285</td>\n",
              "      <td>64.05</td>\n",
              "      <td>10.20</td>\n",
              "      <td>72.45</td>\n",
              "      <td>20.40</td>\n",
              "      <td>...</td>\n",
              "      <td>11.036757</td>\n",
              "      <td>0.60</td>\n",
              "      <td>0.45</td>\n",
              "      <td>42.137394</td>\n",
              "      <td>12.352941</td>\n",
              "      <td>11.55</td>\n",
              "      <td>-23.80</td>\n",
              "      <td>2.769500</td>\n",
              "      <td>19.95</td>\n",
              "      <td>-13.60</td>\n",
              "    </tr>\n",
              "    <tr>\n",
              "      <th>3</th>\n",
              "      <td>3</td>\n",
              "      <td>2500089</td>\n",
              "      <td>1</td>\n",
              "      <td>7.707561</td>\n",
              "      <td>1659</td>\n",
              "      <td>239411</td>\n",
              "      <td>72.45</td>\n",
              "      <td>20.40</td>\n",
              "      <td>35.70</td>\n",
              "      <td>19.04</td>\n",
              "      <td>...</td>\n",
              "      <td>20.427004</td>\n",
              "      <td>0.61</td>\n",
              "      <td>0.15</td>\n",
              "      <td>47.363937</td>\n",
              "      <td>1.720588</td>\n",
              "      <td>9.45</td>\n",
              "      <td>-10.20</td>\n",
              "      <td>2.946208</td>\n",
              "      <td>-27.30</td>\n",
              "      <td>-11.56</td>\n",
              "    </tr>\n",
              "    <tr>\n",
              "      <th>4</th>\n",
              "      <td>4</td>\n",
              "      <td>2500089</td>\n",
              "      <td>1</td>\n",
              "      <td>11.614943</td>\n",
              "      <td>1659</td>\n",
              "      <td>9637</td>\n",
              "      <td>35.70</td>\n",
              "      <td>19.04</td>\n",
              "      <td>30.45</td>\n",
              "      <td>12.24</td>\n",
              "      <td>...</td>\n",
              "      <td>13.213629</td>\n",
              "      <td>0.69</td>\n",
              "      <td>0.30</td>\n",
              "      <td>35.276940</td>\n",
              "      <td>2.393382</td>\n",
              "      <td>-28.35</td>\n",
              "      <td>8.84</td>\n",
              "      <td>6.081846</td>\n",
              "      <td>-33.60</td>\n",
              "      <td>2.04</td>\n",
              "    </tr>\n",
              "  </tbody>\n",
              "</table>\n",
              "<p>5 rows × 89 columns</p>\n",
              "</div>\n",
              "      <button class=\"colab-df-convert\" onclick=\"convertToInteractive('df-80025aef-b86e-4950-88db-bf3ec303f0ed')\"\n",
              "              title=\"Convert this dataframe to an interactive table.\"\n",
              "              style=\"display:none;\">\n",
              "        \n",
              "  <svg xmlns=\"http://www.w3.org/2000/svg\" height=\"24px\"viewBox=\"0 0 24 24\"\n",
              "       width=\"24px\">\n",
              "    <path d=\"M0 0h24v24H0V0z\" fill=\"none\"/>\n",
              "    <path d=\"M18.56 5.44l.94 2.06.94-2.06 2.06-.94-2.06-.94-.94-2.06-.94 2.06-2.06.94zm-11 1L8.5 8.5l.94-2.06 2.06-.94-2.06-.94L8.5 2.5l-.94 2.06-2.06.94zm10 10l.94 2.06.94-2.06 2.06-.94-2.06-.94-.94-2.06-.94 2.06-2.06.94z\"/><path d=\"M17.41 7.96l-1.37-1.37c-.4-.4-.92-.59-1.43-.59-.52 0-1.04.2-1.43.59L10.3 9.45l-7.72 7.72c-.78.78-.78 2.05 0 2.83L4 21.41c.39.39.9.59 1.41.59.51 0 1.02-.2 1.41-.59l7.78-7.78 2.81-2.81c.8-.78.8-2.07 0-2.86zM5.41 20L4 18.59l7.72-7.72 1.47 1.35L5.41 20z\"/>\n",
              "  </svg>\n",
              "      </button>\n",
              "      \n",
              "  <style>\n",
              "    .colab-df-container {\n",
              "      display:flex;\n",
              "      flex-wrap:wrap;\n",
              "      gap: 12px;\n",
              "    }\n",
              "\n",
              "    .colab-df-convert {\n",
              "      background-color: #E8F0FE;\n",
              "      border: none;\n",
              "      border-radius: 50%;\n",
              "      cursor: pointer;\n",
              "      display: none;\n",
              "      fill: #1967D2;\n",
              "      height: 32px;\n",
              "      padding: 0 0 0 0;\n",
              "      width: 32px;\n",
              "    }\n",
              "\n",
              "    .colab-df-convert:hover {\n",
              "      background-color: #E2EBFA;\n",
              "      box-shadow: 0px 1px 2px rgba(60, 64, 67, 0.3), 0px 1px 3px 1px rgba(60, 64, 67, 0.15);\n",
              "      fill: #174EA6;\n",
              "    }\n",
              "\n",
              "    [theme=dark] .colab-df-convert {\n",
              "      background-color: #3B4455;\n",
              "      fill: #D2E3FC;\n",
              "    }\n",
              "\n",
              "    [theme=dark] .colab-df-convert:hover {\n",
              "      background-color: #434B5C;\n",
              "      box-shadow: 0px 1px 3px 1px rgba(0, 0, 0, 0.15);\n",
              "      filter: drop-shadow(0px 1px 2px rgba(0, 0, 0, 0.3));\n",
              "      fill: #FFFFFF;\n",
              "    }\n",
              "  </style>\n",
              "\n",
              "      <script>\n",
              "        const buttonEl =\n",
              "          document.querySelector('#df-80025aef-b86e-4950-88db-bf3ec303f0ed button.colab-df-convert');\n",
              "        buttonEl.style.display =\n",
              "          google.colab.kernel.accessAllowed ? 'block' : 'none';\n",
              "\n",
              "        async function convertToInteractive(key) {\n",
              "          const element = document.querySelector('#df-80025aef-b86e-4950-88db-bf3ec303f0ed');\n",
              "          const dataTable =\n",
              "            await google.colab.kernel.invokeFunction('convertToInteractive',\n",
              "                                                     [key], {});\n",
              "          if (!dataTable) return;\n",
              "\n",
              "          const docLinkHtml = 'Like what you see? Visit the ' +\n",
              "            '<a target=\"_blank\" href=https://colab.research.google.com/notebooks/data_table.ipynb>data table notebook</a>'\n",
              "            + ' to learn more about interactive tables.';\n",
              "          element.innerHTML = '';\n",
              "          dataTable['output_type'] = 'display_data';\n",
              "          await google.colab.output.renderOutput(dataTable, element);\n",
              "          const docLink = document.createElement('div');\n",
              "          docLink.innerHTML = docLinkHtml;\n",
              "          element.appendChild(docLink);\n",
              "        }\n",
              "      </script>\n",
              "    </div>\n",
              "  </div>\n",
              "  "
            ]
          },
          "metadata": {},
          "execution_count": 7
        }
      ],
      "source": [
        "import pandas\n",
        "\n",
        "\n",
        "features = pandas.read_csv('Data/features.csv',chunksize=10000)\n",
        "ft  = features.get_chunk()\n",
        "ft.head()"
      ]
    },
    {
      "cell_type": "code",
      "source": [],
      "metadata": {
        "id": "p5hH_krNuKLB"
      },
      "execution_count": null,
      "outputs": []
    },
    {
      "cell_type": "code",
      "source": [
        "from google.colab import drive\n",
        "drive.mount('/content/drive')"
      ],
      "metadata": {
        "colab": {
          "base_uri": "https://localhost:8080/"
        },
        "id": "k6bVQYMx6fjl",
        "outputId": "da5a3042-4e38-4408-a89a-c68d48c45a29"
      },
      "execution_count": null,
      "outputs": [
        {
          "output_type": "stream",
          "name": "stdout",
          "text": [
            "Mounted at /content/drive\n"
          ]
        }
      ]
    },
    {
      "cell_type": "markdown",
      "source": [
        "After examining the data, I observed that locations are only recorded during specific actions. Consequently, I filtered the dataset based on player_id, game_id, and columns prefixed with location indicators."
      ],
      "metadata": {
        "id": "gLT3FxgovFkD"
      }
    },
    {
      "cell_type": "code",
      "execution_count": null,
      "metadata": {
        "id": "6cK4O37N6SeM"
      },
      "outputs": [],
      "source": [
        "def filter_position_cols(ft):\n",
        "\n",
        "    cols = ft.columns\n",
        "\n",
        "\n",
        "    filtered_col = [col for col in cols\n",
        "                    if col.startswith('game_id')\n",
        "                    or col.startswith('player_id')\n",
        "                    or col.startswith('start_x-')\n",
        "                    or col.startswith('start_y-')]\n",
        "\n",
        "\n",
        "    return ft[filtered_col]"
      ]
    },
    {
      "cell_type": "code",
      "execution_count": null,
      "metadata": {
        "colab": {
          "base_uri": "https://localhost:8080/",
          "height": 184
        },
        "id": "HArS9n3k6SeN",
        "outputId": "cec10c1f-8d91-402d-e33f-fafe441f2986"
      },
      "outputs": [
        {
          "output_type": "error",
          "ename": "NameError",
          "evalue": "ignored",
          "traceback": [
            "\u001b[0;31m---------------------------------------------------------------------------\u001b[0m",
            "\u001b[0;31mNameError\u001b[0m                                 Traceback (most recent call last)",
            "\u001b[0;32m<ipython-input-4-d5fef7665e20>\u001b[0m in \u001b[0;36m<module>\u001b[0;34m\u001b[0m\n\u001b[0;32m----> 1\u001b[0;31m \u001b[0mfiltered_cols\u001b[0m \u001b[0;34m=\u001b[0m \u001b[0mfilter_position_cols\u001b[0m\u001b[0;34m(\u001b[0m\u001b[0mft\u001b[0m\u001b[0;34m)\u001b[0m\u001b[0;34m\u001b[0m\u001b[0;34m\u001b[0m\u001b[0m\n\u001b[0m\u001b[1;32m      2\u001b[0m \u001b[0mfiltered_cols\u001b[0m\u001b[0;34m.\u001b[0m\u001b[0mhead\u001b[0m\u001b[0;34m(\u001b[0m\u001b[0;34m)\u001b[0m\u001b[0;34m\u001b[0m\u001b[0;34m\u001b[0m\u001b[0m\n",
            "\u001b[0;31mNameError\u001b[0m: name 'ft' is not defined"
          ]
        }
      ],
      "source": [
        "filtered_cols = filter_position_cols(ft)\n",
        "filtered_cols.head()"
      ]
    },
    {
      "cell_type": "code",
      "execution_count": null,
      "metadata": {
        "colab": {
          "base_uri": "https://localhost:8080/"
        },
        "id": "Marxc78W6SeO",
        "outputId": "105e8c05-83ea-42ed-d7c3-4d733e641a5e"
      },
      "outputs": [
        {
          "output_type": "stream",
          "name": "stdout",
          "text": [
            "      game_id-0  player_id-0  start_x-0  start_y-0\n",
            "0           NaN          NaN        NaN        NaN\n",
            "1     2500089.0       9637.0      52.50      34.00\n",
            "2     2500089.0       8351.0      63.00      30.60\n",
            "3     2500089.0       9285.0      64.05      10.20\n",
            "4     2500089.0     239411.0      72.45      20.40\n",
            "...         ...          ...        ...        ...\n",
            "9995  2500096.0     207164.0      60.90       8.84\n",
            "9996  2500096.0     207164.0      42.00      55.76\n",
            "9997  2500096.0       8192.0      59.85      40.12\n",
            "9998  2500096.0     246866.0      74.55      38.76\n",
            "9999  2500096.0      10252.0      56.70      31.28\n",
            "\n",
            "[10000 rows x 4 columns]\n",
            "      game_id-0  player_id-0  start_x-0  start_y-0\n",
            "0           NaN          NaN        NaN        NaN\n",
            "1           NaN          NaN        NaN        NaN\n",
            "2     2500089.0       9637.0      52.50      34.00\n",
            "3     2500089.0       8351.0      63.00      30.60\n",
            "4     2500089.0       9285.0      64.05      10.20\n",
            "...         ...          ...        ...        ...\n",
            "9995  2500096.0        107.0      84.00       0.00\n",
            "9996  2500096.0     207164.0      44.10      59.16\n",
            "9997  2500096.0     207164.0      42.00      55.76\n",
            "9998  2500096.0       8192.0      59.85      40.12\n",
            "9999  2500096.0     246866.0      74.55      38.76\n",
            "\n",
            "[10000 rows x 4 columns]\n"
          ]
        }
      ],
      "source": [
        "norm_df = filtered_cols[['game_id-0',\t'player_id-0',\t'start_x-0','start_y-0']]\n",
        "norm_df1 = filtered_cols[['game_id-1',\t'player_id-1',\t'start_x-1','start_y-1']]\n",
        "norm_df2= filtered_cols[['game_id-2',\t'player_id-2',\t'start_x-2','start_y-2']]\n",
        "\n",
        "\n",
        "norm_df1.columns = ['game_id-0',\t'player_id-0',\t'start_x-0','start_y-0']\n",
        "norm_df2.columns = ['game_id-0',\t'player_id-0',\t'start_x-0','start_y-0']\n",
        "\n",
        "print(norm_df1)\n",
        "print(norm_df2)"
      ]
    },
    {
      "cell_type": "markdown",
      "source": [
        "***Data cleaning***\n",
        "\n",
        "Discovered missing values in position columns. Opted to drop records with missing values due to their negligible count, as less aggressive methods like imputation might compromise data quality without significant gain.\n"
      ],
      "metadata": {
        "id": "PmKT279hwlXe"
      }
    },
    {
      "cell_type": "code",
      "execution_count": null,
      "metadata": {
        "colab": {
          "base_uri": "https://localhost:8080/"
        },
        "id": "lGxdAvnP6SeO",
        "outputId": "0a964a44-a0a2-4988-a36a-4da26b26824f"
      },
      "outputs": [
        {
          "output_type": "stream",
          "name": "stdout",
          "text": [
            "game_id-0      0\n",
            "player_id-0    0\n",
            "start_x-0      0\n",
            "start_y-0      0\n",
            "dtype: int64\n",
            "game_id-0      8\n",
            "player_id-0    8\n",
            "start_x-0      8\n",
            "start_y-0      8\n",
            "dtype: int64\n",
            "game_id-0      16\n",
            "player_id-0    16\n",
            "start_x-0      16\n",
            "start_y-0      16\n",
            "dtype: int64\n"
          ]
        }
      ],
      "source": [
        "print(norm_df.isna().sum())\n",
        "print(norm_df1.isna().sum())\n",
        "print(norm_df2.isna().sum())"
      ]
    },
    {
      "cell_type": "markdown",
      "source": [
        "# Data Modelling\n",
        "To enhance position detection, I reorganized the table into four rows. Given that the sequence of player actions doesn’t matter, all actions are consolidated under a single column. The previous columns, such as “start_x-0,” “player_id-0,” and “start_y-0,” are deprecated and now fall under new columns, namely “start_x-0,” “player_id-0,” and “start_y-0.” This restructuring improves the clarity and efficiency of data representation for position-related analysis.\n"
      ],
      "metadata": {
        "id": "M0p401ROxtlK"
      }
    },
    {
      "cell_type": "code",
      "source": [],
      "metadata": {
        "id": "ONRjdptFwiQt"
      },
      "execution_count": null,
      "outputs": []
    },
    {
      "cell_type": "code",
      "execution_count": null,
      "metadata": {
        "colab": {
          "base_uri": "https://localhost:8080/"
        },
        "id": "rTZ_jZgI6SeP",
        "outputId": "95352462-ca0d-46fe-e792-a257a74bc106"
      },
      "outputs": [
        {
          "output_type": "stream",
          "name": "stdout",
          "text": [
            "game_id-0      10000\n",
            "player_id-0    10000\n",
            "start_x-0      10000\n",
            "start_y-0      10000\n",
            "dtype: int64\n",
            "game_id-0      9992\n",
            "player_id-0    9992\n",
            "start_x-0      9992\n",
            "start_y-0      9992\n",
            "dtype: int64\n",
            "game_id-0      9984\n",
            "player_id-0    9984\n",
            "start_x-0      9984\n",
            "start_y-0      9984\n",
            "dtype: int64\n"
          ]
        }
      ],
      "source": [
        "print(norm_df.count())\n",
        "print(norm_df1.count())\n",
        "print(norm_df2.count())"
      ]
    },
    {
      "cell_type": "code",
      "execution_count": null,
      "metadata": {
        "id": "psJlzgp-6SeQ"
      },
      "outputs": [],
      "source": [
        "norm_df = norm_df.append(norm_df1)\n",
        "norm_df = norm_df.append(norm_df2)\n",
        "norm_df = norm_df.dropna()\n"
      ]
    },
    {
      "cell_type": "code",
      "execution_count": null,
      "metadata": {
        "colab": {
          "base_uri": "https://localhost:8080/"
        },
        "id": "tqXXOuJi6SeR",
        "outputId": "5c2229ba-661c-4a82-e7e8-1111c6c5fcfc"
      },
      "outputs": [
        {
          "output_type": "execute_result",
          "data": {
            "text/plain": [
              "game_id-0      102\n",
              "player_id-0    102\n",
              "start_x-0      102\n",
              "start_y-0      102\n",
              "dtype: int64"
            ]
          },
          "metadata": {},
          "execution_count": 18
        }
      ],
      "source": [
        "norm_df.loc[norm_df['player_id-0']==9637.0].count()"
      ]
    },
    {
      "cell_type": "code",
      "execution_count": null,
      "metadata": {
        "id": "UAC0oFKK6SeS"
      },
      "outputs": [],
      "source": []
    },
    {
      "cell_type": "code",
      "execution_count": null,
      "metadata": {
        "id": "IMEz-Ihi6SeS"
      },
      "outputs": [],
      "source": [
        "# def ranging(player_id , game_id , interval):\n",
        "#     df = norm_df[ ['start_x-0'  ,'start_y-0']].loc[(norm_df['player_id-0'] == player_id) & (norm_df['game_id-0'] == game_id-0) ]\n",
        "#     df_x_min = df['start_x-0'].min()\n",
        "#     df_x_max = df['start_x-0'].max()\n",
        "\n",
        "#     start = df_x_min\n",
        "#     end =  start+interval\n",
        "#     data = []\n",
        "#     print(end, df_x_max)\n",
        "\n",
        "#     while end <= df_x_max:\n",
        "\n",
        "#         range_x = range(int(start),int(end) )\n",
        "#         data.append({range_x:0})\n",
        "\n",
        "\n",
        "\n",
        "# #         range_df = range_df.append({\"range\":range_x , \"frequency\":0}, ignore_index=True)\n",
        "\n",
        "#         # ranges =range_df.values\n",
        "\n",
        "#         # if range_x not in ranges:\n",
        "#         #     range_df = range_df.append({'range':range_x, \"frequency\":0} ,  ignore_index=True)\n",
        "#         # else:\n",
        "#         #     index = range_df.iloc[range_df'==range_x]\n",
        "\n",
        "\n",
        "#         start = end\n",
        "#         end =  start +interval\n",
        "\n",
        "#     return data\n",
        "\n"
      ]
    },
    {
      "cell_type": "code",
      "source": [
        "def replace(lis , old_item ,new_item):\n",
        "  lis.remove(old_item)\n",
        "  lis.append(new_item)\n",
        "  return lis"
      ],
      "metadata": {
        "id": "QYZf1nslYH-f"
      },
      "execution_count": null,
      "outputs": []
    },
    {
      "cell_type": "markdown",
      "source": [
        "\n",
        "\n",
        "```\n",
        "`# This is formatted as code`\n",
        "```\n",
        "\n",
        "**Feature extraction**\n",
        "\n",
        "Chose to create a frequency distribution class to analyze the distribution of player positions throughout the game. Utilized a class interval of 5, generating a frequency table for each individual. This table was then employed for further calculations. ![maxresdefault.jpeg](data:image/jpeg;base64,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)\n",
        "\n",
        "\n",
        "\n",
        "Calculated the weighted average separately for both the x and y coordinates. Although this method may be considered simplistic, it proves to be effective for this context."
      ],
      "metadata": {
        "id": "EKJEKE721Hn0"
      }
    },
    {
      "cell_type": "code",
      "source": [
        "class freq_dist():\n",
        "  def __init__(self,player_id , game_id ):\n",
        "    self.df = norm_df[ ['start_x-0'  ,'start_y-0']].loc[(norm_df['player_id-0'] == player_id) & (norm_df['game_id-0'] == game_id-0) ]\n",
        "    self.df_x_min = self.df['start_x-0'].min()\n",
        "    self.df_x_max = self.df['start_x-0'].max()\n",
        "\n",
        "    self.freq_table= ''\n",
        "    self.generate_weighted_averagae =0\n",
        "    self.data =''\n",
        "\n",
        "\n",
        "\n",
        "\n",
        "  def generate_weighted_average(self, interval):\n",
        "\n",
        "    start = self.df_x_min\n",
        "    end =  start+interval\n",
        "    data = []\n",
        "    while end <= self.df_x_max:\n",
        "\n",
        "        range_x = range(int(start),int(end) )\n",
        "        data.append({range_x:0})\n",
        "\n",
        "\n",
        "\n",
        "#         range_df = range_df.append({\"range\":range_x , \"frequency\":0}, ignore_index=True)\n",
        "\n",
        "        # ranges =range_df.values\n",
        "\n",
        "        # if range_x not in ranges:\n",
        "        #     range_df = range_df.append({'range':range_x, \"frequency\":0} ,  ignore_index=True)\n",
        "        # else:\n",
        "        #     index = range_df.iloc[range_df'==range_x]\n",
        "\n",
        "\n",
        "        start = end\n",
        "        end =  start +interval\n",
        "    for x in self.df['start_x-0']:\n",
        "      for r in data:\n",
        "        #print(x,list(r.keys())[0])\n",
        "        key = list(r.keys())[0]\n",
        "        if int(x) in key:\n",
        "          r_new = r\n",
        "          r_new[key] = r_new[key]+1\n",
        "          replace(data , r , r_new)\n",
        "    self.data = data\n",
        "\n",
        "\n",
        "\n",
        "    return data\n",
        "\n",
        "  def generate_frequency_table(self):\n",
        "    data = {\"distro\":[] , \"frequency\":[]}\n",
        "    df = pandas.DataFrame(data)\n",
        "    count = 0\n",
        "    print(self.data)\n",
        "    for x in self.data:\n",
        "      count = count +1\n",
        "      maxi =  str(\n",
        "          max(list(x.items())[0][0])\n",
        "          )\n",
        "      mini  = str(\n",
        "          min(\n",
        "              list(x.items())[0][0])\n",
        "          )\n",
        "      distro = mini +'-'+maxi\n",
        "\n",
        "      row = {\"distro\":distro, \"frequency\":list(x.items())[0][1]}\n",
        "      df = df.append(row , ignore_index=True)\n",
        "    return df\n",
        "\n",
        "\n",
        "\n",
        "\n"
      ],
      "metadata": {
        "id": "Y_vNDbGfHSaO"
      },
      "execution_count": null,
      "outputs": []
    },
    {
      "cell_type": "code",
      "source": [
        "class freq_dist():\n",
        "  def __init__(self,player_id , game_id ):\n",
        "    self.df = norm_df[ ['start_x-0'  ,'start_y-0']].loc[norm_df['player_id-0'] == player_id ]\n",
        "    print(self.df.count()) #& (norm_df['game_id-0'] == game_id-0) ]\n",
        "    self.df_x_min = self.df['start_x-0'].min()\n",
        "    self.df_x_max = self.df['start_x-0'].max()\n",
        "\n",
        "    self.freq_table= ''\n",
        "    self.generate_weighted_averagae =0\n",
        "    self.data =''\n",
        "\n",
        "\n",
        "\n",
        "\n",
        "  def generate_weighted_average(self, interval):\n",
        "\n",
        "    start = self.df_x_min\n",
        "    end =  start+interval\n",
        "    data = []\n",
        "    while end <= self.df_x_max:\n",
        "\n",
        "        range_x = range(int(start),int(end) )\n",
        "        data.append({range_x:0})\n",
        "\n",
        "\n",
        "\n",
        "#         range_df = range_df.append({\"range\":range_x , \"frequency\":0}, ignore_index=True)\n",
        "\n",
        "        # ranges =range_df.values\n",
        "\n",
        "        # if range_x not in ranges:\n",
        "        #     range_df = range_df.append({'range':range_x, \"frequency\":0} ,  ignore_index=True)\n",
        "        # else:\n",
        "        #     index = range_df.iloc[range_df'==range_x]\n",
        "\n",
        "\n",
        "        start = end\n",
        "        end =  start +interval\n",
        "    for x in self.df['start_x-0']:\n",
        "      for r in data:\n",
        "\n",
        "        #print(x,list(r.keys())[0])\n",
        "        key = list(r.keys())[0]\n",
        "        if int(x) in key:\n",
        "          r_new = r\n",
        "          r_new[key] = r_new[key]+1\n",
        "          replace(data , r , r_new)\n",
        "    self.data = data\n",
        "\n",
        "\n",
        "\n",
        "    return data\n",
        "\n",
        "  def generate_frequency_table(self):\n",
        "    data = {\"player_position\":[] , \"frequency\":[] , \"class_midpoint\":[] , \"fX\":[]}\n",
        "    df = pandas.DataFrame(data)\n",
        "\n",
        "    count = 0\n",
        "    #print(self.data)\n",
        "    for x in self.data:\n",
        "      count = count +1\n",
        "      maxi =  str(\n",
        "          max(list(x.items())[0][0])\n",
        "          )\n",
        "      mini  = str(\n",
        "          min(\n",
        "              list(x.items())[0][0])\n",
        "          )\n",
        "      distro = mini +'-'+maxi\n",
        "      mid = (int(mini) + int(maxi))/2\n",
        "      freq = list(x.items())[0][1]\n",
        "\n",
        "      row = {\"player_position\":distro, \"frequency\":freq,\"class_midpoint\":mid ,\"fX\": freq*mid}\n",
        "      self.df = df.append(row , ignore_index=True)\n",
        "    return df\n",
        "  def weighted_average(self):\n",
        "    avg = self.df[\"fX\"].sum()/self.df[\"frequency\"].sum()\n",
        "    return avg\n",
        "\n",
        "\n",
        "\n",
        "\n",
        "\n"
      ],
      "metadata": {
        "id": "osP454aZFDWh"
      },
      "execution_count": null,
      "outputs": []
    },
    {
      "cell_type": "markdown",
      "source": [],
      "metadata": {
        "id": "WL4CT7Cl3-Bh"
      }
    },
    {
      "cell_type": "code",
      "source": [
        "x = range(10,12)\n",
        "for y in x:\n",
        "  print(y)\n",
        "min(x)"
      ],
      "metadata": {
        "colab": {
          "base_uri": "https://localhost:8080/"
        },
        "id": "C3jpyeljl5HS",
        "outputId": "241a2d14-e523-40f7-83cd-523a6ae3205c"
      },
      "execution_count": null,
      "outputs": [
        {
          "output_type": "stream",
          "name": "stdout",
          "text": [
            "10\n",
            "11\n"
          ]
        },
        {
          "output_type": "execute_result",
          "data": {
            "text/plain": [
              "10"
            ]
          },
          "metadata": {},
          "execution_count": 23
        }
      ]
    },
    {
      "cell_type": "code",
      "source": [],
      "metadata": {
        "id": "RtmYp6blFrhV"
      },
      "execution_count": null,
      "outputs": []
    },
    {
      "cell_type": "code",
      "source": [],
      "metadata": {
        "id": "gCm_gNw4Ffyg"
      },
      "execution_count": null,
      "outputs": []
    },
    {
      "cell_type": "code",
      "source": [
        "player = freq_dist(9637.0,2500089.0)\n",
        "player.generate_weighted_average(5)\n",
        "player.generate_frequency_table()\n",
        "player.weighted_average()"
      ],
      "metadata": {
        "id": "Pr3zZoGrQ1tu",
        "colab": {
          "base_uri": "https://localhost:8080/"
        },
        "outputId": "8ce47149-3eab-4fc4-c90c-0c712433080f"
      },
      "execution_count": null,
      "outputs": [
        {
          "output_type": "stream",
          "name": "stdout",
          "text": [
            "start_x-0    102\n",
            "start_y-0    102\n",
            "dtype: int64\n"
          ]
        },
        {
          "output_type": "execute_result",
          "data": {
            "text/plain": [
              "65.0"
            ]
          },
          "metadata": {},
          "execution_count": 24
        }
      ]
    },
    {
      "cell_type": "code",
      "source": [
        "vals  = [3,3,4,93,92,1]"
      ],
      "metadata": {
        "id": "f7ANyetvOF95"
      },
      "execution_count": null,
      "outputs": []
    },
    {
      "cell_type": "markdown",
      "source": [
        "##### **Remember to explore clustering of feature engineered positions**"
      ],
      "metadata": {
        "id": "M5054QnQFM8S"
      }
    },
    {
      "cell_type": "code",
      "source": [
        "import pandas\n",
        "\n",
        "\n",
        "features = pandas.read_csv('Data/features.csv',usecols =['game_id-0'] )"
      ],
      "metadata": {
        "id": "zU_nyIE2A0Dp"
      },
      "execution_count": null,
      "outputs": []
    },
    {
      "cell_type": "markdown",
      "source": [
        "## **Role Detector**"
      ],
      "metadata": {
        "id": "wc4TNEjWB4F-"
      }
    },
    {
      "cell_type": "code",
      "source": [
        "import pandas as pd\n",
        "features= pd.read_csv('/content/sample_data/test/Data/features.csv' , chunksize=10000)\n",
        "ft = features.get_chunk()\n",
        "\n",
        "ft.columns"
      ],
      "metadata": {
        "colab": {
          "base_uri": "https://localhost:8080/"
        },
        "id": "pCCJ0Xx-CBzv",
        "outputId": "ca51e6a7-1e9e-4f96-9a48-71077bc6b97c"
      },
      "execution_count": null,
      "outputs": [
        {
          "output_type": "execute_result",
          "data": {
            "text/plain": [
              "Index(['Unnamed: 0', 'game_id-0', 'period_id-0', 'time_seconds-0', 'team_id-0',\n",
              "       'player_id-0', 'start_x-0', 'start_y-0', 'end_x-0', 'end_y-0',\n",
              "       'bodypart_id-0', 'type_id-0', 'result_id-0', 'type_name-0',\n",
              "       'result_name-0', 'bodypart_name-0', 'time_played-0', 'game_id-1',\n",
              "       'period_id-1', 'time_seconds-1', 'team_id-1', 'player_id-1',\n",
              "       'start_x-1', 'start_y-1', 'end_x-1', 'end_y-1', 'bodypart_id-1',\n",
              "       'type_id-1', 'result_id-1', 'type_name-1', 'result_name-1',\n",
              "       'bodypart_name-1', 'time_played-1', 'game_id-2', 'period_id-2',\n",
              "       'time_seconds-2', 'team_id-2', 'player_id-2', 'start_x-2', 'start_y-2',\n",
              "       'end_x-2', 'end_y-2', 'bodypart_id-2', 'type_id-2', 'result_id-2',\n",
              "       'type_name-2', 'result_name-2', 'bodypart_name-2', 'time_played-2',\n",
              "       'team-1', 'team-2', 'start_x_norm-0', 'start_y_norm-0',\n",
              "       'start_distance_to_goal-0', 'start_angle_to_goal-0', 'diff_x-0',\n",
              "       'diff_y-0', 'distance_covered-0', 'end_x_norm-0', 'end_y_norm-0',\n",
              "       'end_distance_to_goal-0', 'end_angle_to_goal-0', 'start_x_norm-1',\n",
              "       'start_y_norm-1', 'start_distance_to_goal-1', 'start_angle_to_goal-1',\n",
              "       'diff_x-1', 'diff_y-1', 'distance_covered-1', 'end_x_norm-1',\n",
              "       'end_y_norm-1', 'end_distance_to_goal-1', 'end_angle_to_goal-1',\n",
              "       'start_x_norm-2', 'start_y_norm-2', 'start_distance_to_goal-2',\n",
              "       'start_angle_to_goal-2', 'diff_x-2', 'diff_y-2', 'distance_covered-2',\n",
              "       'end_x_norm-2', 'end_y_norm-2', 'end_distance_to_goal-2',\n",
              "       'end_angle_to_goal-2', 'xdiff_sequence_pre', 'ydiff_sequence_pre',\n",
              "       'time_sequence_pre', 'xdiff_sequence_post', 'ydiff_sequence_post'],\n",
              "      dtype='object')"
            ]
          },
          "metadata": {},
          "execution_count": 33
        }
      ]
    },
    {
      "cell_type": "code",
      "source": [
        "actions =pd.read_csv(\"/content/sample_data/test/Data/actions.csv\" ) #, chunksize =10000)\n",
        "actions.head()"
      ],
      "metadata": {
        "colab": {
          "base_uri": "https://localhost:8080/",
          "height": 287
        },
        "id": "m2zdfgx_JLFO",
        "outputId": "b3c5e520-a9b9-474f-cec5-3ce680f9f970"
      },
      "execution_count": null,
      "outputs": [
        {
          "output_type": "execute_result",
          "data": {
            "text/plain": [
              "   Unnamed: 0  game_id  period_id  time_seconds  team_id  player_id  start_x  \\\n",
              "0           0  2500089          1      2.763597     1659       9637    52.50   \n",
              "1           1  2500089          1      4.761353     1659       8351    63.00   \n",
              "2           2  2500089          1      5.533097     1659       9285    64.05   \n",
              "3           3  2500089          1      7.707561     1659     239411    72.45   \n",
              "4           4  2500089          1     11.614943     1659       9637    35.70   \n",
              "\n",
              "   start_y  end_x  end_y  original_event_id  bodypart_id  type_id  result_id  \\\n",
              "0    34.00  63.00  30.60        251700146.0            0        0          1   \n",
              "1    30.60  64.05  10.20        251700147.0            0        0          1   \n",
              "2    10.20  72.45  20.40        251700148.0            0        0          1   \n",
              "3    20.40  35.70  19.04        251700161.0            0        0          1   \n",
              "4    19.04  30.45  12.24        251700149.0            0        0          1   \n",
              "\n",
              "   action_id type_name result_name bodypart_name  \n",
              "0          0      pass     success          foot  \n",
              "1          1      pass     success          foot  \n",
              "2          2      pass     success          foot  \n",
              "3          3      pass     success          foot  \n",
              "4          4      pass     success          foot  "
            ],
            "text/html": [
              "\n",
              "  <div id=\"df-71517ea9-298c-482e-89d7-b7abd97bd5f8\">\n",
              "    <div class=\"colab-df-container\">\n",
              "      <div>\n",
              "<style scoped>\n",
              "    .dataframe tbody tr th:only-of-type {\n",
              "        vertical-align: middle;\n",
              "    }\n",
              "\n",
              "    .dataframe tbody tr th {\n",
              "        vertical-align: top;\n",
              "    }\n",
              "\n",
              "    .dataframe thead th {\n",
              "        text-align: right;\n",
              "    }\n",
              "</style>\n",
              "<table border=\"1\" class=\"dataframe\">\n",
              "  <thead>\n",
              "    <tr style=\"text-align: right;\">\n",
              "      <th></th>\n",
              "      <th>Unnamed: 0</th>\n",
              "      <th>game_id</th>\n",
              "      <th>period_id</th>\n",
              "      <th>time_seconds</th>\n",
              "      <th>team_id</th>\n",
              "      <th>player_id</th>\n",
              "      <th>start_x</th>\n",
              "      <th>start_y</th>\n",
              "      <th>end_x</th>\n",
              "      <th>end_y</th>\n",
              "      <th>original_event_id</th>\n",
              "      <th>bodypart_id</th>\n",
              "      <th>type_id</th>\n",
              "      <th>result_id</th>\n",
              "      <th>action_id</th>\n",
              "      <th>type_name</th>\n",
              "      <th>result_name</th>\n",
              "      <th>bodypart_name</th>\n",
              "    </tr>\n",
              "  </thead>\n",
              "  <tbody>\n",
              "    <tr>\n",
              "      <th>0</th>\n",
              "      <td>0</td>\n",
              "      <td>2500089</td>\n",
              "      <td>1</td>\n",
              "      <td>2.763597</td>\n",
              "      <td>1659</td>\n",
              "      <td>9637</td>\n",
              "      <td>52.50</td>\n",
              "      <td>34.00</td>\n",
              "      <td>63.00</td>\n",
              "      <td>30.60</td>\n",
              "      <td>251700146.0</td>\n",
              "      <td>0</td>\n",
              "      <td>0</td>\n",
              "      <td>1</td>\n",
              "      <td>0</td>\n",
              "      <td>pass</td>\n",
              "      <td>success</td>\n",
              "      <td>foot</td>\n",
              "    </tr>\n",
              "    <tr>\n",
              "      <th>1</th>\n",
              "      <td>1</td>\n",
              "      <td>2500089</td>\n",
              "      <td>1</td>\n",
              "      <td>4.761353</td>\n",
              "      <td>1659</td>\n",
              "      <td>8351</td>\n",
              "      <td>63.00</td>\n",
              "      <td>30.60</td>\n",
              "      <td>64.05</td>\n",
              "      <td>10.20</td>\n",
              "      <td>251700147.0</td>\n",
              "      <td>0</td>\n",
              "      <td>0</td>\n",
              "      <td>1</td>\n",
              "      <td>1</td>\n",
              "      <td>pass</td>\n",
              "      <td>success</td>\n",
              "      <td>foot</td>\n",
              "    </tr>\n",
              "    <tr>\n",
              "      <th>2</th>\n",
              "      <td>2</td>\n",
              "      <td>2500089</td>\n",
              "      <td>1</td>\n",
              "      <td>5.533097</td>\n",
              "      <td>1659</td>\n",
              "      <td>9285</td>\n",
              "      <td>64.05</td>\n",
              "      <td>10.20</td>\n",
              "      <td>72.45</td>\n",
              "      <td>20.40</td>\n",
              "      <td>251700148.0</td>\n",
              "      <td>0</td>\n",
              "      <td>0</td>\n",
              "      <td>1</td>\n",
              "      <td>2</td>\n",
              "      <td>pass</td>\n",
              "      <td>success</td>\n",
              "      <td>foot</td>\n",
              "    </tr>\n",
              "    <tr>\n",
              "      <th>3</th>\n",
              "      <td>3</td>\n",
              "      <td>2500089</td>\n",
              "      <td>1</td>\n",
              "      <td>7.707561</td>\n",
              "      <td>1659</td>\n",
              "      <td>239411</td>\n",
              "      <td>72.45</td>\n",
              "      <td>20.40</td>\n",
              "      <td>35.70</td>\n",
              "      <td>19.04</td>\n",
              "      <td>251700161.0</td>\n",
              "      <td>0</td>\n",
              "      <td>0</td>\n",
              "      <td>1</td>\n",
              "      <td>3</td>\n",
              "      <td>pass</td>\n",
              "      <td>success</td>\n",
              "      <td>foot</td>\n",
              "    </tr>\n",
              "    <tr>\n",
              "      <th>4</th>\n",
              "      <td>4</td>\n",
              "      <td>2500089</td>\n",
              "      <td>1</td>\n",
              "      <td>11.614943</td>\n",
              "      <td>1659</td>\n",
              "      <td>9637</td>\n",
              "      <td>35.70</td>\n",
              "      <td>19.04</td>\n",
              "      <td>30.45</td>\n",
              "      <td>12.24</td>\n",
              "      <td>251700149.0</td>\n",
              "      <td>0</td>\n",
              "      <td>0</td>\n",
              "      <td>1</td>\n",
              "      <td>4</td>\n",
              "      <td>pass</td>\n",
              "      <td>success</td>\n",
              "      <td>foot</td>\n",
              "    </tr>\n",
              "  </tbody>\n",
              "</table>\n",
              "</div>\n",
              "      <button class=\"colab-df-convert\" onclick=\"convertToInteractive('df-71517ea9-298c-482e-89d7-b7abd97bd5f8')\"\n",
              "              title=\"Convert this dataframe to an interactive table.\"\n",
              "              style=\"display:none;\">\n",
              "        \n",
              "  <svg xmlns=\"http://www.w3.org/2000/svg\" height=\"24px\"viewBox=\"0 0 24 24\"\n",
              "       width=\"24px\">\n",
              "    <path d=\"M0 0h24v24H0V0z\" fill=\"none\"/>\n",
              "    <path d=\"M18.56 5.44l.94 2.06.94-2.06 2.06-.94-2.06-.94-.94-2.06-.94 2.06-2.06.94zm-11 1L8.5 8.5l.94-2.06 2.06-.94-2.06-.94L8.5 2.5l-.94 2.06-2.06.94zm10 10l.94 2.06.94-2.06 2.06-.94-2.06-.94-.94-2.06-.94 2.06-2.06.94z\"/><path d=\"M17.41 7.96l-1.37-1.37c-.4-.4-.92-.59-1.43-.59-.52 0-1.04.2-1.43.59L10.3 9.45l-7.72 7.72c-.78.78-.78 2.05 0 2.83L4 21.41c.39.39.9.59 1.41.59.51 0 1.02-.2 1.41-.59l7.78-7.78 2.81-2.81c.8-.78.8-2.07 0-2.86zM5.41 20L4 18.59l7.72-7.72 1.47 1.35L5.41 20z\"/>\n",
              "  </svg>\n",
              "      </button>\n",
              "      \n",
              "  <style>\n",
              "    .colab-df-container {\n",
              "      display:flex;\n",
              "      flex-wrap:wrap;\n",
              "      gap: 12px;\n",
              "    }\n",
              "\n",
              "    .colab-df-convert {\n",
              "      background-color: #E8F0FE;\n",
              "      border: none;\n",
              "      border-radius: 50%;\n",
              "      cursor: pointer;\n",
              "      display: none;\n",
              "      fill: #1967D2;\n",
              "      height: 32px;\n",
              "      padding: 0 0 0 0;\n",
              "      width: 32px;\n",
              "    }\n",
              "\n",
              "    .colab-df-convert:hover {\n",
              "      background-color: #E2EBFA;\n",
              "      box-shadow: 0px 1px 2px rgba(60, 64, 67, 0.3), 0px 1px 3px 1px rgba(60, 64, 67, 0.15);\n",
              "      fill: #174EA6;\n",
              "    }\n",
              "\n",
              "    [theme=dark] .colab-df-convert {\n",
              "      background-color: #3B4455;\n",
              "      fill: #D2E3FC;\n",
              "    }\n",
              "\n",
              "    [theme=dark] .colab-df-convert:hover {\n",
              "      background-color: #434B5C;\n",
              "      box-shadow: 0px 1px 3px 1px rgba(0, 0, 0, 0.15);\n",
              "      filter: drop-shadow(0px 1px 2px rgba(0, 0, 0, 0.3));\n",
              "      fill: #FFFFFF;\n",
              "    }\n",
              "  </style>\n",
              "\n",
              "      <script>\n",
              "        const buttonEl =\n",
              "          document.querySelector('#df-71517ea9-298c-482e-89d7-b7abd97bd5f8 button.colab-df-convert');\n",
              "        buttonEl.style.display =\n",
              "          google.colab.kernel.accessAllowed ? 'block' : 'none';\n",
              "\n",
              "        async function convertToInteractive(key) {\n",
              "          const element = document.querySelector('#df-71517ea9-298c-482e-89d7-b7abd97bd5f8');\n",
              "          const dataTable =\n",
              "            await google.colab.kernel.invokeFunction('convertToInteractive',\n",
              "                                                     [key], {});\n",
              "          if (!dataTable) return;\n",
              "\n",
              "          const docLinkHtml = 'Like what you see? Visit the ' +\n",
              "            '<a target=\"_blank\" href=https://colab.research.google.com/notebooks/data_table.ipynb>data table notebook</a>'\n",
              "            + ' to learn more about interactive tables.';\n",
              "          element.innerHTML = '';\n",
              "          dataTable['output_type'] = 'display_data';\n",
              "          await google.colab.output.renderOutput(dataTable, element);\n",
              "          const docLink = document.createElement('div');\n",
              "          docLink.innerHTML = docLinkHtml;\n",
              "          element.appendChild(docLink);\n",
              "        }\n",
              "      </script>\n",
              "    </div>\n",
              "  </div>\n",
              "  "
            ]
          },
          "metadata": {},
          "execution_count": 34
        }
      ]
    },
    {
      "cell_type": "code",
      "source": [
        "actions[\"type_id\"].nuni()"
      ],
      "metadata": {
        "colab": {
          "base_uri": "https://localhost:8080/"
        },
        "id": "lbI8uukz1iV2",
        "outputId": "a28ab5aa-c551-4d78-9c35-9d81b65876b8"
      },
      "execution_count": null,
      "outputs": [
        {
          "output_type": "execute_result",
          "data": {
            "text/plain": [
              "2462726"
            ]
          },
          "metadata": {},
          "execution_count": 61
        }
      ]
    },
    {
      "cell_type": "code",
      "source": [
        "import math\n",
        "def distance_points(x1,y1,x2,y2):\n",
        "  x = (x2-x1)**2\n",
        "  y = (y2-y1)**2\n",
        "  dist  = math.sqrt(x+y)\n",
        "  return dist\n",
        "\n",
        "\n",
        "distance_points(52.50\t,34.00,\t63.00\t,30.60)"
      ],
      "metadata": {
        "colab": {
          "base_uri": "https://localhost:8080/"
        },
        "id": "4shW1ayaRflA",
        "outputId": "ad52bcd0-c1d1-4792-be02-a33d94f5c48d"
      },
      "execution_count": null,
      "outputs": [
        {
          "output_type": "execute_result",
          "data": {
            "text/plain": [
              "11.03675676999362"
            ]
          },
          "metadata": {},
          "execution_count": 35
        }
      ]
    },
    {
      "cell_type": "code",
      "source": [
        "def test(x):\n",
        "  print(x['start_x'])"
      ],
      "metadata": {
        "id": "MlGm5pUmWSeu"
      },
      "execution_count": null,
      "outputs": []
    },
    {
      "cell_type": "code",
      "source": [
        "ac_filter = actions[['player_id', 'start_x', 'start_y', 'end_x', 'end_y', 'bodypart_id', 'type_id', 'result_id']]"
      ],
      "metadata": {
        "id": "rd4N1fd5PGZV"
      },
      "execution_count": null,
      "outputs": []
    },
    {
      "cell_type": "code",
      "source": [
        "ac_filter[\"action_distance\"] = ac_filter.apply(lambda x: distance_points(x['start_x'],x['start_y'],x['end_x'],x['end_y'] ),axis=1)"
      ],
      "metadata": {
        "colab": {
          "base_uri": "https://localhost:8080/"
        },
        "id": "JZMYZ6H0VSy6",
        "outputId": "27bbd08e-dde5-4248-ed23-3f1870f14b2b"
      },
      "execution_count": null,
      "outputs": [
        {
          "output_type": "stream",
          "name": "stderr",
          "text": [
            "<ipython-input-39-1a3ad2cc49f0>:1: SettingWithCopyWarning: \n",
            "A value is trying to be set on a copy of a slice from a DataFrame.\n",
            "Try using .loc[row_indexer,col_indexer] = value instead\n",
            "\n",
            "See the caveats in the documentation: https://pandas.pydata.org/pandas-docs/stable/user_guide/indexing.html#returning-a-view-versus-a-copy\n",
            "  ac_filter[\"action_distance\"] = ac_filter.apply(lambda x: distance_points(x['start_x'],x['start_y'],x['end_x'],x['end_y'] ),axis=1)\n"
          ]
        }
      ]
    },
    {
      "cell_type": "code",
      "source": [
        "ac_filter[['player_id','bodypart_id'\t,'type_id'\t,'action_distance']]"
      ],
      "metadata": {
        "colab": {
          "base_uri": "https://localhost:8080/",
          "height": 424
        },
        "id": "7JzrVLqs2trh",
        "outputId": "c05a69de-5fcd-4394-f60b-2a877bc6414b"
      },
      "execution_count": null,
      "outputs": [
        {
          "output_type": "execute_result",
          "data": {
            "text/plain": [
              "         player_id  bodypart_id  type_id  action_distance\n",
              "0             9637            0        0        11.036757\n",
              "1             8351            0        0        20.427004\n",
              "2             9285            0        0        13.213629\n",
              "3           239411            0        0        36.775156\n",
              "4             9637            0        0         8.590838\n",
              "...            ...          ...      ...              ...\n",
              "2462721     103682            0        0         5.423292\n",
              "2462722     122577            0        9         4.874433\n",
              "2462723     122577            0        8         0.000000\n",
              "2462724     257800            0       13        21.554306\n",
              "2462725     122623            0        0        62.547982\n",
              "\n",
              "[2462726 rows x 4 columns]"
            ],
            "text/html": [
              "\n",
              "  <div id=\"df-ebac3177-6c5b-4871-9187-f6447827f23d\">\n",
              "    <div class=\"colab-df-container\">\n",
              "      <div>\n",
              "<style scoped>\n",
              "    .dataframe tbody tr th:only-of-type {\n",
              "        vertical-align: middle;\n",
              "    }\n",
              "\n",
              "    .dataframe tbody tr th {\n",
              "        vertical-align: top;\n",
              "    }\n",
              "\n",
              "    .dataframe thead th {\n",
              "        text-align: right;\n",
              "    }\n",
              "</style>\n",
              "<table border=\"1\" class=\"dataframe\">\n",
              "  <thead>\n",
              "    <tr style=\"text-align: right;\">\n",
              "      <th></th>\n",
              "      <th>player_id</th>\n",
              "      <th>bodypart_id</th>\n",
              "      <th>type_id</th>\n",
              "      <th>action_distance</th>\n",
              "    </tr>\n",
              "  </thead>\n",
              "  <tbody>\n",
              "    <tr>\n",
              "      <th>0</th>\n",
              "      <td>9637</td>\n",
              "      <td>0</td>\n",
              "      <td>0</td>\n",
              "      <td>11.036757</td>\n",
              "    </tr>\n",
              "    <tr>\n",
              "      <th>1</th>\n",
              "      <td>8351</td>\n",
              "      <td>0</td>\n",
              "      <td>0</td>\n",
              "      <td>20.427004</td>\n",
              "    </tr>\n",
              "    <tr>\n",
              "      <th>2</th>\n",
              "      <td>9285</td>\n",
              "      <td>0</td>\n",
              "      <td>0</td>\n",
              "      <td>13.213629</td>\n",
              "    </tr>\n",
              "    <tr>\n",
              "      <th>3</th>\n",
              "      <td>239411</td>\n",
              "      <td>0</td>\n",
              "      <td>0</td>\n",
              "      <td>36.775156</td>\n",
              "    </tr>\n",
              "    <tr>\n",
              "      <th>4</th>\n",
              "      <td>9637</td>\n",
              "      <td>0</td>\n",
              "      <td>0</td>\n",
              "      <td>8.590838</td>\n",
              "    </tr>\n",
              "    <tr>\n",
              "      <th>...</th>\n",
              "      <td>...</td>\n",
              "      <td>...</td>\n",
              "      <td>...</td>\n",
              "      <td>...</td>\n",
              "    </tr>\n",
              "    <tr>\n",
              "      <th>2462721</th>\n",
              "      <td>103682</td>\n",
              "      <td>0</td>\n",
              "      <td>0</td>\n",
              "      <td>5.423292</td>\n",
              "    </tr>\n",
              "    <tr>\n",
              "      <th>2462722</th>\n",
              "      <td>122577</td>\n",
              "      <td>0</td>\n",
              "      <td>9</td>\n",
              "      <td>4.874433</td>\n",
              "    </tr>\n",
              "    <tr>\n",
              "      <th>2462723</th>\n",
              "      <td>122577</td>\n",
              "      <td>0</td>\n",
              "      <td>8</td>\n",
              "      <td>0.000000</td>\n",
              "    </tr>\n",
              "    <tr>\n",
              "      <th>2462724</th>\n",
              "      <td>257800</td>\n",
              "      <td>0</td>\n",
              "      <td>13</td>\n",
              "      <td>21.554306</td>\n",
              "    </tr>\n",
              "    <tr>\n",
              "      <th>2462725</th>\n",
              "      <td>122623</td>\n",
              "      <td>0</td>\n",
              "      <td>0</td>\n",
              "      <td>62.547982</td>\n",
              "    </tr>\n",
              "  </tbody>\n",
              "</table>\n",
              "<p>2462726 rows × 4 columns</p>\n",
              "</div>\n",
              "      <button class=\"colab-df-convert\" onclick=\"convertToInteractive('df-ebac3177-6c5b-4871-9187-f6447827f23d')\"\n",
              "              title=\"Convert this dataframe to an interactive table.\"\n",
              "              style=\"display:none;\">\n",
              "        \n",
              "  <svg xmlns=\"http://www.w3.org/2000/svg\" height=\"24px\"viewBox=\"0 0 24 24\"\n",
              "       width=\"24px\">\n",
              "    <path d=\"M0 0h24v24H0V0z\" fill=\"none\"/>\n",
              "    <path d=\"M18.56 5.44l.94 2.06.94-2.06 2.06-.94-2.06-.94-.94-2.06-.94 2.06-2.06.94zm-11 1L8.5 8.5l.94-2.06 2.06-.94-2.06-.94L8.5 2.5l-.94 2.06-2.06.94zm10 10l.94 2.06.94-2.06 2.06-.94-2.06-.94-.94-2.06-.94 2.06-2.06.94z\"/><path d=\"M17.41 7.96l-1.37-1.37c-.4-.4-.92-.59-1.43-.59-.52 0-1.04.2-1.43.59L10.3 9.45l-7.72 7.72c-.78.78-.78 2.05 0 2.83L4 21.41c.39.39.9.59 1.41.59.51 0 1.02-.2 1.41-.59l7.78-7.78 2.81-2.81c.8-.78.8-2.07 0-2.86zM5.41 20L4 18.59l7.72-7.72 1.47 1.35L5.41 20z\"/>\n",
              "  </svg>\n",
              "      </button>\n",
              "      \n",
              "  <style>\n",
              "    .colab-df-container {\n",
              "      display:flex;\n",
              "      flex-wrap:wrap;\n",
              "      gap: 12px;\n",
              "    }\n",
              "\n",
              "    .colab-df-convert {\n",
              "      background-color: #E8F0FE;\n",
              "      border: none;\n",
              "      border-radius: 50%;\n",
              "      cursor: pointer;\n",
              "      display: none;\n",
              "      fill: #1967D2;\n",
              "      height: 32px;\n",
              "      padding: 0 0 0 0;\n",
              "      width: 32px;\n",
              "    }\n",
              "\n",
              "    .colab-df-convert:hover {\n",
              "      background-color: #E2EBFA;\n",
              "      box-shadow: 0px 1px 2px rgba(60, 64, 67, 0.3), 0px 1px 3px 1px rgba(60, 64, 67, 0.15);\n",
              "      fill: #174EA6;\n",
              "    }\n",
              "\n",
              "    [theme=dark] .colab-df-convert {\n",
              "      background-color: #3B4455;\n",
              "      fill: #D2E3FC;\n",
              "    }\n",
              "\n",
              "    [theme=dark] .colab-df-convert:hover {\n",
              "      background-color: #434B5C;\n",
              "      box-shadow: 0px 1px 3px 1px rgba(0, 0, 0, 0.15);\n",
              "      filter: drop-shadow(0px 1px 2px rgba(0, 0, 0, 0.3));\n",
              "      fill: #FFFFFF;\n",
              "    }\n",
              "  </style>\n",
              "\n",
              "      <script>\n",
              "        const buttonEl =\n",
              "          document.querySelector('#df-ebac3177-6c5b-4871-9187-f6447827f23d button.colab-df-convert');\n",
              "        buttonEl.style.display =\n",
              "          google.colab.kernel.accessAllowed ? 'block' : 'none';\n",
              "\n",
              "        async function convertToInteractive(key) {\n",
              "          const element = document.querySelector('#df-ebac3177-6c5b-4871-9187-f6447827f23d');\n",
              "          const dataTable =\n",
              "            await google.colab.kernel.invokeFunction('convertToInteractive',\n",
              "                                                     [key], {});\n",
              "          if (!dataTable) return;\n",
              "\n",
              "          const docLinkHtml = 'Like what you see? Visit the ' +\n",
              "            '<a target=\"_blank\" href=https://colab.research.google.com/notebooks/data_table.ipynb>data table notebook</a>'\n",
              "            + ' to learn more about interactive tables.';\n",
              "          element.innerHTML = '';\n",
              "          dataTable['output_type'] = 'display_data';\n",
              "          await google.colab.output.renderOutput(dataTable, element);\n",
              "          const docLink = document.createElement('div');\n",
              "          docLink.innerHTML = docLinkHtml;\n",
              "          element.appendChild(docLink);\n",
              "        }\n",
              "      </script>\n",
              "    </div>\n",
              "  </div>\n",
              "  "
            ]
          },
          "metadata": {},
          "execution_count": 40
        }
      ]
    },
    {
      "cell_type": "code",
      "source": [
        "playerank = pd.read_csv(\"/content/sample_data/test/Data/playerank.csv\")\n",
        "playerank.head()"
      ],
      "metadata": {
        "colab": {
          "base_uri": "https://localhost:8080/",
          "height": 206
        },
        "id": "RpGHXYxu1x64",
        "outputId": "9a6372f8-4227-4946-835d-ce5939439bff"
      },
      "execution_count": null,
      "outputs": [
        {
          "output_type": "execute_result",
          "data": {
            "text/plain": [
              "   goalScored  playerankScore  matchId  playerId roleCluster  minutesPlayed\n",
              "0           0          0.0053  2057991     10014    right CB             90\n",
              "1           0          0.0009  2057992     10014    right CB             41\n",
              "2           0         -0.0013  2057998    100140  central MF             90\n",
              "3           0          0.0031  2058000    100140     left CB             90\n",
              "4           0          0.0035  2499869     10108    right CB             90"
            ],
            "text/html": [
              "\n",
              "  <div id=\"df-f26283c4-05a7-4e9f-8b2a-e10516548d27\">\n",
              "    <div class=\"colab-df-container\">\n",
              "      <div>\n",
              "<style scoped>\n",
              "    .dataframe tbody tr th:only-of-type {\n",
              "        vertical-align: middle;\n",
              "    }\n",
              "\n",
              "    .dataframe tbody tr th {\n",
              "        vertical-align: top;\n",
              "    }\n",
              "\n",
              "    .dataframe thead th {\n",
              "        text-align: right;\n",
              "    }\n",
              "</style>\n",
              "<table border=\"1\" class=\"dataframe\">\n",
              "  <thead>\n",
              "    <tr style=\"text-align: right;\">\n",
              "      <th></th>\n",
              "      <th>goalScored</th>\n",
              "      <th>playerankScore</th>\n",
              "      <th>matchId</th>\n",
              "      <th>playerId</th>\n",
              "      <th>roleCluster</th>\n",
              "      <th>minutesPlayed</th>\n",
              "    </tr>\n",
              "  </thead>\n",
              "  <tbody>\n",
              "    <tr>\n",
              "      <th>0</th>\n",
              "      <td>0</td>\n",
              "      <td>0.0053</td>\n",
              "      <td>2057991</td>\n",
              "      <td>10014</td>\n",
              "      <td>right CB</td>\n",
              "      <td>90</td>\n",
              "    </tr>\n",
              "    <tr>\n",
              "      <th>1</th>\n",
              "      <td>0</td>\n",
              "      <td>0.0009</td>\n",
              "      <td>2057992</td>\n",
              "      <td>10014</td>\n",
              "      <td>right CB</td>\n",
              "      <td>41</td>\n",
              "    </tr>\n",
              "    <tr>\n",
              "      <th>2</th>\n",
              "      <td>0</td>\n",
              "      <td>-0.0013</td>\n",
              "      <td>2057998</td>\n",
              "      <td>100140</td>\n",
              "      <td>central MF</td>\n",
              "      <td>90</td>\n",
              "    </tr>\n",
              "    <tr>\n",
              "      <th>3</th>\n",
              "      <td>0</td>\n",
              "      <td>0.0031</td>\n",
              "      <td>2058000</td>\n",
              "      <td>100140</td>\n",
              "      <td>left CB</td>\n",
              "      <td>90</td>\n",
              "    </tr>\n",
              "    <tr>\n",
              "      <th>4</th>\n",
              "      <td>0</td>\n",
              "      <td>0.0035</td>\n",
              "      <td>2499869</td>\n",
              "      <td>10108</td>\n",
              "      <td>right CB</td>\n",
              "      <td>90</td>\n",
              "    </tr>\n",
              "  </tbody>\n",
              "</table>\n",
              "</div>\n",
              "      <button class=\"colab-df-convert\" onclick=\"convertToInteractive('df-f26283c4-05a7-4e9f-8b2a-e10516548d27')\"\n",
              "              title=\"Convert this dataframe to an interactive table.\"\n",
              "              style=\"display:none;\">\n",
              "        \n",
              "  <svg xmlns=\"http://www.w3.org/2000/svg\" height=\"24px\"viewBox=\"0 0 24 24\"\n",
              "       width=\"24px\">\n",
              "    <path d=\"M0 0h24v24H0V0z\" fill=\"none\"/>\n",
              "    <path d=\"M18.56 5.44l.94 2.06.94-2.06 2.06-.94-2.06-.94-.94-2.06-.94 2.06-2.06.94zm-11 1L8.5 8.5l.94-2.06 2.06-.94-2.06-.94L8.5 2.5l-.94 2.06-2.06.94zm10 10l.94 2.06.94-2.06 2.06-.94-2.06-.94-.94-2.06-.94 2.06-2.06.94z\"/><path d=\"M17.41 7.96l-1.37-1.37c-.4-.4-.92-.59-1.43-.59-.52 0-1.04.2-1.43.59L10.3 9.45l-7.72 7.72c-.78.78-.78 2.05 0 2.83L4 21.41c.39.39.9.59 1.41.59.51 0 1.02-.2 1.41-.59l7.78-7.78 2.81-2.81c.8-.78.8-2.07 0-2.86zM5.41 20L4 18.59l7.72-7.72 1.47 1.35L5.41 20z\"/>\n",
              "  </svg>\n",
              "      </button>\n",
              "      \n",
              "  <style>\n",
              "    .colab-df-container {\n",
              "      display:flex;\n",
              "      flex-wrap:wrap;\n",
              "      gap: 12px;\n",
              "    }\n",
              "\n",
              "    .colab-df-convert {\n",
              "      background-color: #E8F0FE;\n",
              "      border: none;\n",
              "      border-radius: 50%;\n",
              "      cursor: pointer;\n",
              "      display: none;\n",
              "      fill: #1967D2;\n",
              "      height: 32px;\n",
              "      padding: 0 0 0 0;\n",
              "      width: 32px;\n",
              "    }\n",
              "\n",
              "    .colab-df-convert:hover {\n",
              "      background-color: #E2EBFA;\n",
              "      box-shadow: 0px 1px 2px rgba(60, 64, 67, 0.3), 0px 1px 3px 1px rgba(60, 64, 67, 0.15);\n",
              "      fill: #174EA6;\n",
              "    }\n",
              "\n",
              "    [theme=dark] .colab-df-convert {\n",
              "      background-color: #3B4455;\n",
              "      fill: #D2E3FC;\n",
              "    }\n",
              "\n",
              "    [theme=dark] .colab-df-convert:hover {\n",
              "      background-color: #434B5C;\n",
              "      box-shadow: 0px 1px 3px 1px rgba(0, 0, 0, 0.15);\n",
              "      filter: drop-shadow(0px 1px 2px rgba(0, 0, 0, 0.3));\n",
              "      fill: #FFFFFF;\n",
              "    }\n",
              "  </style>\n",
              "\n",
              "      <script>\n",
              "        const buttonEl =\n",
              "          document.querySelector('#df-f26283c4-05a7-4e9f-8b2a-e10516548d27 button.colab-df-convert');\n",
              "        buttonEl.style.display =\n",
              "          google.colab.kernel.accessAllowed ? 'block' : 'none';\n",
              "\n",
              "        async function convertToInteractive(key) {\n",
              "          const element = document.querySelector('#df-f26283c4-05a7-4e9f-8b2a-e10516548d27');\n",
              "          const dataTable =\n",
              "            await google.colab.kernel.invokeFunction('convertToInteractive',\n",
              "                                                     [key], {});\n",
              "          if (!dataTable) return;\n",
              "\n",
              "          const docLinkHtml = 'Like what you see? Visit the ' +\n",
              "            '<a target=\"_blank\" href=https://colab.research.google.com/notebooks/data_table.ipynb>data table notebook</a>'\n",
              "            + ' to learn more about interactive tables.';\n",
              "          element.innerHTML = '';\n",
              "          dataTable['output_type'] = 'display_data';\n",
              "          await google.colab.output.renderOutput(dataTable, element);\n",
              "          const docLink = document.createElement('div');\n",
              "          docLink.innerHTML = docLinkHtml;\n",
              "          element.appendChild(docLink);\n",
              "        }\n",
              "      </script>\n",
              "    </div>\n",
              "  </div>\n",
              "  "
            ]
          },
          "metadata": {},
          "execution_count": 46
        }
      ]
    },
    {
      "cell_type": "code",
      "source": [
        "players = pd.read_csv(\"/content/sample_data/test/Data/players.csv\")\n",
        "players.head()"
      ],
      "metadata": {
        "colab": {
          "base_uri": "https://localhost:8080/",
          "height": 704
        },
        "id": "P9JwMyOC76Y6",
        "outputId": "7a04392c-3d4f-4071-d908-1ffdf13765e4"
      },
      "execution_count": null,
      "outputs": [
        {
          "output_type": "execute_result",
          "data": {
            "text/plain": [
              "                                        passportArea  weight  \\\n",
              "0  {'name': 'Turkey', 'id': '792', 'alpha3code': ...      78   \n",
              "1  {'name': 'Senegal', 'id': '686', 'alpha3code':...      73   \n",
              "2  {'name': 'France', 'id': '250', 'alpha3code': ...      72   \n",
              "3  {'name': 'Senegal', 'id': '686', 'alpha3code':...      82   \n",
              "4  {'name': 'France', 'id': '250', 'alpha3code': ...      84   \n",
              "\n",
              "           firstName  middleName     lastName  currentTeamId   birthDate  \\\n",
              "0              Harun         NaN        Tekin         4502.0  1989-06-17   \n",
              "1             Malang         NaN         Sarr         3775.0  1999-01-23   \n",
              "2               Over         NaN     Mandanda         3772.0  1998-10-26   \n",
              "3  Alfred John Momar         NaN      N'Diaye          683.0  1990-03-06   \n",
              "4           Ibrahima         NaN  Konat\\u00e9         2975.0  1999-05-25   \n",
              "\n",
              "   height                                               role  \\\n",
              "0     187  {'code2': 'GK', 'code3': 'GKP', 'name': 'Goalk...   \n",
              "1     182  {'code2': 'DF', 'code3': 'DEF', 'name': 'Defen...   \n",
              "2     176  {'code2': 'GK', 'code3': 'GKP', 'name': 'Goalk...   \n",
              "3     187  {'code2': 'MD', 'code3': 'MID', 'name': 'Midfi...   \n",
              "4     192  {'code2': 'DF', 'code3': 'DEF', 'name': 'Defen...   \n",
              "\n",
              "                                           birthArea    wyId   foot  \\\n",
              "0  {'name': 'Turkey', 'id': '792', 'alpha3code': ...   32777  right   \n",
              "1  {'name': 'France', 'id': '250', 'alpha3code': ...  393228   left   \n",
              "2  {'name': 'France', 'id': '250', 'alpha3code': ...  393230    NaN   \n",
              "3  {'name': 'France', 'id': '250', 'alpha3code': ...   32793  right   \n",
              "4  {'name': 'France', 'id': '250', 'alpha3code': ...  393247  right   \n",
              "\n",
              "        shortName  currentNationalTeamId  \n",
              "0        H. Tekin                 4687.0  \n",
              "1         M. Sarr                 4423.0  \n",
              "2     O. Mandanda                    NaN  \n",
              "3      A. N'Diaye                19314.0  \n",
              "4  I. Konat\\u00e9                    NaN  "
            ],
            "text/html": [
              "\n",
              "  <div id=\"df-43e9855c-a845-4917-8742-970c85494538\">\n",
              "    <div class=\"colab-df-container\">\n",
              "      <div>\n",
              "<style scoped>\n",
              "    .dataframe tbody tr th:only-of-type {\n",
              "        vertical-align: middle;\n",
              "    }\n",
              "\n",
              "    .dataframe tbody tr th {\n",
              "        vertical-align: top;\n",
              "    }\n",
              "\n",
              "    .dataframe thead th {\n",
              "        text-align: right;\n",
              "    }\n",
              "</style>\n",
              "<table border=\"1\" class=\"dataframe\">\n",
              "  <thead>\n",
              "    <tr style=\"text-align: right;\">\n",
              "      <th></th>\n",
              "      <th>passportArea</th>\n",
              "      <th>weight</th>\n",
              "      <th>firstName</th>\n",
              "      <th>middleName</th>\n",
              "      <th>lastName</th>\n",
              "      <th>currentTeamId</th>\n",
              "      <th>birthDate</th>\n",
              "      <th>height</th>\n",
              "      <th>role</th>\n",
              "      <th>birthArea</th>\n",
              "      <th>wyId</th>\n",
              "      <th>foot</th>\n",
              "      <th>shortName</th>\n",
              "      <th>currentNationalTeamId</th>\n",
              "    </tr>\n",
              "  </thead>\n",
              "  <tbody>\n",
              "    <tr>\n",
              "      <th>0</th>\n",
              "      <td>{'name': 'Turkey', 'id': '792', 'alpha3code': ...</td>\n",
              "      <td>78</td>\n",
              "      <td>Harun</td>\n",
              "      <td>NaN</td>\n",
              "      <td>Tekin</td>\n",
              "      <td>4502.0</td>\n",
              "      <td>1989-06-17</td>\n",
              "      <td>187</td>\n",
              "      <td>{'code2': 'GK', 'code3': 'GKP', 'name': 'Goalk...</td>\n",
              "      <td>{'name': 'Turkey', 'id': '792', 'alpha3code': ...</td>\n",
              "      <td>32777</td>\n",
              "      <td>right</td>\n",
              "      <td>H. Tekin</td>\n",
              "      <td>4687.0</td>\n",
              "    </tr>\n",
              "    <tr>\n",
              "      <th>1</th>\n",
              "      <td>{'name': 'Senegal', 'id': '686', 'alpha3code':...</td>\n",
              "      <td>73</td>\n",
              "      <td>Malang</td>\n",
              "      <td>NaN</td>\n",
              "      <td>Sarr</td>\n",
              "      <td>3775.0</td>\n",
              "      <td>1999-01-23</td>\n",
              "      <td>182</td>\n",
              "      <td>{'code2': 'DF', 'code3': 'DEF', 'name': 'Defen...</td>\n",
              "      <td>{'name': 'France', 'id': '250', 'alpha3code': ...</td>\n",
              "      <td>393228</td>\n",
              "      <td>left</td>\n",
              "      <td>M. Sarr</td>\n",
              "      <td>4423.0</td>\n",
              "    </tr>\n",
              "    <tr>\n",
              "      <th>2</th>\n",
              "      <td>{'name': 'France', 'id': '250', 'alpha3code': ...</td>\n",
              "      <td>72</td>\n",
              "      <td>Over</td>\n",
              "      <td>NaN</td>\n",
              "      <td>Mandanda</td>\n",
              "      <td>3772.0</td>\n",
              "      <td>1998-10-26</td>\n",
              "      <td>176</td>\n",
              "      <td>{'code2': 'GK', 'code3': 'GKP', 'name': 'Goalk...</td>\n",
              "      <td>{'name': 'France', 'id': '250', 'alpha3code': ...</td>\n",
              "      <td>393230</td>\n",
              "      <td>NaN</td>\n",
              "      <td>O. Mandanda</td>\n",
              "      <td>NaN</td>\n",
              "    </tr>\n",
              "    <tr>\n",
              "      <th>3</th>\n",
              "      <td>{'name': 'Senegal', 'id': '686', 'alpha3code':...</td>\n",
              "      <td>82</td>\n",
              "      <td>Alfred John Momar</td>\n",
              "      <td>NaN</td>\n",
              "      <td>N'Diaye</td>\n",
              "      <td>683.0</td>\n",
              "      <td>1990-03-06</td>\n",
              "      <td>187</td>\n",
              "      <td>{'code2': 'MD', 'code3': 'MID', 'name': 'Midfi...</td>\n",
              "      <td>{'name': 'France', 'id': '250', 'alpha3code': ...</td>\n",
              "      <td>32793</td>\n",
              "      <td>right</td>\n",
              "      <td>A. N'Diaye</td>\n",
              "      <td>19314.0</td>\n",
              "    </tr>\n",
              "    <tr>\n",
              "      <th>4</th>\n",
              "      <td>{'name': 'France', 'id': '250', 'alpha3code': ...</td>\n",
              "      <td>84</td>\n",
              "      <td>Ibrahima</td>\n",
              "      <td>NaN</td>\n",
              "      <td>Konat\\u00e9</td>\n",
              "      <td>2975.0</td>\n",
              "      <td>1999-05-25</td>\n",
              "      <td>192</td>\n",
              "      <td>{'code2': 'DF', 'code3': 'DEF', 'name': 'Defen...</td>\n",
              "      <td>{'name': 'France', 'id': '250', 'alpha3code': ...</td>\n",
              "      <td>393247</td>\n",
              "      <td>right</td>\n",
              "      <td>I. Konat\\u00e9</td>\n",
              "      <td>NaN</td>\n",
              "    </tr>\n",
              "  </tbody>\n",
              "</table>\n",
              "</div>\n",
              "      <button class=\"colab-df-convert\" onclick=\"convertToInteractive('df-43e9855c-a845-4917-8742-970c85494538')\"\n",
              "              title=\"Convert this dataframe to an interactive table.\"\n",
              "              style=\"display:none;\">\n",
              "        \n",
              "  <svg xmlns=\"http://www.w3.org/2000/svg\" height=\"24px\"viewBox=\"0 0 24 24\"\n",
              "       width=\"24px\">\n",
              "    <path d=\"M0 0h24v24H0V0z\" fill=\"none\"/>\n",
              "    <path d=\"M18.56 5.44l.94 2.06.94-2.06 2.06-.94-2.06-.94-.94-2.06-.94 2.06-2.06.94zm-11 1L8.5 8.5l.94-2.06 2.06-.94-2.06-.94L8.5 2.5l-.94 2.06-2.06.94zm10 10l.94 2.06.94-2.06 2.06-.94-2.06-.94-.94-2.06-.94 2.06-2.06.94z\"/><path d=\"M17.41 7.96l-1.37-1.37c-.4-.4-.92-.59-1.43-.59-.52 0-1.04.2-1.43.59L10.3 9.45l-7.72 7.72c-.78.78-.78 2.05 0 2.83L4 21.41c.39.39.9.59 1.41.59.51 0 1.02-.2 1.41-.59l7.78-7.78 2.81-2.81c.8-.78.8-2.07 0-2.86zM5.41 20L4 18.59l7.72-7.72 1.47 1.35L5.41 20z\"/>\n",
              "  </svg>\n",
              "      </button>\n",
              "      \n",
              "  <style>\n",
              "    .colab-df-container {\n",
              "      display:flex;\n",
              "      flex-wrap:wrap;\n",
              "      gap: 12px;\n",
              "    }\n",
              "\n",
              "    .colab-df-convert {\n",
              "      background-color: #E8F0FE;\n",
              "      border: none;\n",
              "      border-radius: 50%;\n",
              "      cursor: pointer;\n",
              "      display: none;\n",
              "      fill: #1967D2;\n",
              "      height: 32px;\n",
              "      padding: 0 0 0 0;\n",
              "      width: 32px;\n",
              "    }\n",
              "\n",
              "    .colab-df-convert:hover {\n",
              "      background-color: #E2EBFA;\n",
              "      box-shadow: 0px 1px 2px rgba(60, 64, 67, 0.3), 0px 1px 3px 1px rgba(60, 64, 67, 0.15);\n",
              "      fill: #174EA6;\n",
              "    }\n",
              "\n",
              "    [theme=dark] .colab-df-convert {\n",
              "      background-color: #3B4455;\n",
              "      fill: #D2E3FC;\n",
              "    }\n",
              "\n",
              "    [theme=dark] .colab-df-convert:hover {\n",
              "      background-color: #434B5C;\n",
              "      box-shadow: 0px 1px 3px 1px rgba(0, 0, 0, 0.15);\n",
              "      filter: drop-shadow(0px 1px 2px rgba(0, 0, 0, 0.3));\n",
              "      fill: #FFFFFF;\n",
              "    }\n",
              "  </style>\n",
              "\n",
              "      <script>\n",
              "        const buttonEl =\n",
              "          document.querySelector('#df-43e9855c-a845-4917-8742-970c85494538 button.colab-df-convert');\n",
              "        buttonEl.style.display =\n",
              "          google.colab.kernel.accessAllowed ? 'block' : 'none';\n",
              "\n",
              "        async function convertToInteractive(key) {\n",
              "          const element = document.querySelector('#df-43e9855c-a845-4917-8742-970c85494538');\n",
              "          const dataTable =\n",
              "            await google.colab.kernel.invokeFunction('convertToInteractive',\n",
              "                                                     [key], {});\n",
              "          if (!dataTable) return;\n",
              "\n",
              "          const docLinkHtml = 'Like what you see? Visit the ' +\n",
              "            '<a target=\"_blank\" href=https://colab.research.google.com/notebooks/data_table.ipynb>data table notebook</a>'\n",
              "            + ' to learn more about interactive tables.';\n",
              "          element.innerHTML = '';\n",
              "          dataTable['output_type'] = 'display_data';\n",
              "          await google.colab.output.renderOutput(dataTable, element);\n",
              "          const docLink = document.createElement('div');\n",
              "          docLink.innerHTML = docLinkHtml;\n",
              "          element.appendChild(docLink);\n",
              "        }\n",
              "      </script>\n",
              "    </div>\n",
              "  </div>\n",
              "  "
            ]
          },
          "metadata": {},
          "execution_count": 51
        }
      ]
    },
    {
      "cell_type": "code",
      "source": [
        "players.wyId.loc[players.wyId==10014]"
      ],
      "metadata": {
        "colab": {
          "base_uri": "https://localhost:8080/"
        },
        "id": "1rd5ivIr6PBD",
        "outputId": "78dfdc6a-0352-4ecf-c79b-728aa2bf9db4"
      },
      "execution_count": null,
      "outputs": [
        {
          "output_type": "execute_result",
          "data": {
            "text/plain": [
              "794    10014\n",
              "Name: wyId, dtype: int64"
            ]
          },
          "metadata": {},
          "execution_count": 54
        }
      ]
    },
    {
      "cell_type": "code",
      "source": [
        "players = pd.read_csv(\"/content/sample_data/test/Data/players.csv\")\n",
        "players.loc[players['playerId']==10014]"
      ],
      "metadata": {
        "colab": {
          "base_uri": "https://localhost:8080/",
          "height": 538
        },
        "id": "lmaG-9tB3uuw",
        "outputId": "f5a216b5-bbb5-4bb6-8a51-e45df77a2185"
      },
      "execution_count": null,
      "outputs": [
        {
          "output_type": "error",
          "ename": "KeyError",
          "evalue": "ignored",
          "traceback": [
            "\u001b[0;31m---------------------------------------------------------------------------\u001b[0m",
            "\u001b[0;31mKeyError\u001b[0m                                  Traceback (most recent call last)",
            "\u001b[0;32m/usr/local/lib/python3.8/dist-packages/pandas/core/indexes/base.py\u001b[0m in \u001b[0;36mget_loc\u001b[0;34m(self, key, method, tolerance)\u001b[0m\n\u001b[1;32m   3360\u001b[0m             \u001b[0;32mtry\u001b[0m\u001b[0;34m:\u001b[0m\u001b[0;34m\u001b[0m\u001b[0;34m\u001b[0m\u001b[0m\n\u001b[0;32m-> 3361\u001b[0;31m                 \u001b[0;32mreturn\u001b[0m \u001b[0mself\u001b[0m\u001b[0;34m.\u001b[0m\u001b[0m_engine\u001b[0m\u001b[0;34m.\u001b[0m\u001b[0mget_loc\u001b[0m\u001b[0;34m(\u001b[0m\u001b[0mcasted_key\u001b[0m\u001b[0;34m)\u001b[0m\u001b[0;34m\u001b[0m\u001b[0;34m\u001b[0m\u001b[0m\n\u001b[0m\u001b[1;32m   3362\u001b[0m             \u001b[0;32mexcept\u001b[0m \u001b[0mKeyError\u001b[0m \u001b[0;32mas\u001b[0m \u001b[0merr\u001b[0m\u001b[0;34m:\u001b[0m\u001b[0;34m\u001b[0m\u001b[0;34m\u001b[0m\u001b[0m\n",
            "\u001b[0;32m/usr/local/lib/python3.8/dist-packages/pandas/_libs/index.pyx\u001b[0m in \u001b[0;36mpandas._libs.index.IndexEngine.get_loc\u001b[0;34m()\u001b[0m\n",
            "\u001b[0;32m/usr/local/lib/python3.8/dist-packages/pandas/_libs/index.pyx\u001b[0m in \u001b[0;36mpandas._libs.index.IndexEngine.get_loc\u001b[0;34m()\u001b[0m\n",
            "\u001b[0;32mpandas/_libs/hashtable_class_helper.pxi\u001b[0m in \u001b[0;36mpandas._libs.hashtable.PyObjectHashTable.get_item\u001b[0;34m()\u001b[0m\n",
            "\u001b[0;32mpandas/_libs/hashtable_class_helper.pxi\u001b[0m in \u001b[0;36mpandas._libs.hashtable.PyObjectHashTable.get_item\u001b[0;34m()\u001b[0m\n",
            "\u001b[0;31mKeyError\u001b[0m: 'playerId'",
            "\nThe above exception was the direct cause of the following exception:\n",
            "\u001b[0;31mKeyError\u001b[0m                                  Traceback (most recent call last)",
            "\u001b[0;32m<ipython-input-53-16168a7d8068>\u001b[0m in \u001b[0;36m<module>\u001b[0;34m\u001b[0m\n\u001b[1;32m      1\u001b[0m \u001b[0mplayers\u001b[0m \u001b[0;34m=\u001b[0m \u001b[0mpd\u001b[0m\u001b[0;34m.\u001b[0m\u001b[0mread_csv\u001b[0m\u001b[0;34m(\u001b[0m\u001b[0;34m\"/content/sample_data/test/Data/players.csv\"\u001b[0m\u001b[0;34m)\u001b[0m\u001b[0;34m\u001b[0m\u001b[0;34m\u001b[0m\u001b[0m\n\u001b[0;32m----> 2\u001b[0;31m \u001b[0mplayers\u001b[0m\u001b[0;34m.\u001b[0m\u001b[0mloc\u001b[0m\u001b[0;34m[\u001b[0m\u001b[0mplayers\u001b[0m\u001b[0;34m[\u001b[0m\u001b[0;34m'playerId'\u001b[0m\u001b[0;34m]\u001b[0m\u001b[0;34m==\u001b[0m\u001b[0;36m10014\u001b[0m\u001b[0;34m]\u001b[0m\u001b[0;34m\u001b[0m\u001b[0;34m\u001b[0m\u001b[0m\n\u001b[0m",
            "\u001b[0;32m/usr/local/lib/python3.8/dist-packages/pandas/core/frame.py\u001b[0m in \u001b[0;36m__getitem__\u001b[0;34m(self, key)\u001b[0m\n\u001b[1;32m   3456\u001b[0m             \u001b[0;32mif\u001b[0m \u001b[0mself\u001b[0m\u001b[0;34m.\u001b[0m\u001b[0mcolumns\u001b[0m\u001b[0;34m.\u001b[0m\u001b[0mnlevels\u001b[0m \u001b[0;34m>\u001b[0m \u001b[0;36m1\u001b[0m\u001b[0;34m:\u001b[0m\u001b[0;34m\u001b[0m\u001b[0;34m\u001b[0m\u001b[0m\n\u001b[1;32m   3457\u001b[0m                 \u001b[0;32mreturn\u001b[0m \u001b[0mself\u001b[0m\u001b[0;34m.\u001b[0m\u001b[0m_getitem_multilevel\u001b[0m\u001b[0;34m(\u001b[0m\u001b[0mkey\u001b[0m\u001b[0;34m)\u001b[0m\u001b[0;34m\u001b[0m\u001b[0;34m\u001b[0m\u001b[0m\n\u001b[0;32m-> 3458\u001b[0;31m             \u001b[0mindexer\u001b[0m \u001b[0;34m=\u001b[0m \u001b[0mself\u001b[0m\u001b[0;34m.\u001b[0m\u001b[0mcolumns\u001b[0m\u001b[0;34m.\u001b[0m\u001b[0mget_loc\u001b[0m\u001b[0;34m(\u001b[0m\u001b[0mkey\u001b[0m\u001b[0;34m)\u001b[0m\u001b[0;34m\u001b[0m\u001b[0;34m\u001b[0m\u001b[0m\n\u001b[0m\u001b[1;32m   3459\u001b[0m             \u001b[0;32mif\u001b[0m \u001b[0mis_integer\u001b[0m\u001b[0;34m(\u001b[0m\u001b[0mindexer\u001b[0m\u001b[0;34m)\u001b[0m\u001b[0;34m:\u001b[0m\u001b[0;34m\u001b[0m\u001b[0;34m\u001b[0m\u001b[0m\n\u001b[1;32m   3460\u001b[0m                 \u001b[0mindexer\u001b[0m \u001b[0;34m=\u001b[0m \u001b[0;34m[\u001b[0m\u001b[0mindexer\u001b[0m\u001b[0;34m]\u001b[0m\u001b[0;34m\u001b[0m\u001b[0;34m\u001b[0m\u001b[0m\n",
            "\u001b[0;32m/usr/local/lib/python3.8/dist-packages/pandas/core/indexes/base.py\u001b[0m in \u001b[0;36mget_loc\u001b[0;34m(self, key, method, tolerance)\u001b[0m\n\u001b[1;32m   3361\u001b[0m                 \u001b[0;32mreturn\u001b[0m \u001b[0mself\u001b[0m\u001b[0;34m.\u001b[0m\u001b[0m_engine\u001b[0m\u001b[0;34m.\u001b[0m\u001b[0mget_loc\u001b[0m\u001b[0;34m(\u001b[0m\u001b[0mcasted_key\u001b[0m\u001b[0;34m)\u001b[0m\u001b[0;34m\u001b[0m\u001b[0;34m\u001b[0m\u001b[0m\n\u001b[1;32m   3362\u001b[0m             \u001b[0;32mexcept\u001b[0m \u001b[0mKeyError\u001b[0m \u001b[0;32mas\u001b[0m \u001b[0merr\u001b[0m\u001b[0;34m:\u001b[0m\u001b[0;34m\u001b[0m\u001b[0;34m\u001b[0m\u001b[0m\n\u001b[0;32m-> 3363\u001b[0;31m                 \u001b[0;32mraise\u001b[0m \u001b[0mKeyError\u001b[0m\u001b[0;34m(\u001b[0m\u001b[0mkey\u001b[0m\u001b[0;34m)\u001b[0m \u001b[0;32mfrom\u001b[0m \u001b[0merr\u001b[0m\u001b[0;34m\u001b[0m\u001b[0;34m\u001b[0m\u001b[0m\n\u001b[0m\u001b[1;32m   3364\u001b[0m \u001b[0;34m\u001b[0m\u001b[0m\n\u001b[1;32m   3365\u001b[0m         \u001b[0;32mif\u001b[0m \u001b[0mis_scalar\u001b[0m\u001b[0;34m(\u001b[0m\u001b[0mkey\u001b[0m\u001b[0;34m)\u001b[0m \u001b[0;32mand\u001b[0m \u001b[0misna\u001b[0m\u001b[0;34m(\u001b[0m\u001b[0mkey\u001b[0m\u001b[0;34m)\u001b[0m \u001b[0;32mand\u001b[0m \u001b[0;32mnot\u001b[0m \u001b[0mself\u001b[0m\u001b[0;34m.\u001b[0m\u001b[0mhasnans\u001b[0m\u001b[0;34m:\u001b[0m\u001b[0;34m\u001b[0m\u001b[0;34m\u001b[0m\u001b[0m\n",
            "\u001b[0;31mKeyError\u001b[0m: 'playerId'"
          ]
        }
      ]
    },
    {
      "cell_type": "code",
      "source": [
        "players"
      ],
      "metadata": {
        "id": "y4dK1ezE44wa"
      },
      "execution_count": null,
      "outputs": []
    },
    {
      "cell_type": "code",
      "source": [
        "def engineer_feature(player_id ,type_id):\n",
        "  ac_filter[['bodypart_id' ,'action_distance']\n",
        "            ].loc[(ac_filter['player_id']==9637)&(ac_filter['type_id']==0)]\n"
      ],
      "metadata": {
        "id": "MOqjwRcEbxa_"
      },
      "execution_count": null,
      "outputs": []
    },
    {
      "cell_type": "code",
      "source": [
        "ac_filter.type_id.unique()"
      ],
      "metadata": {
        "colab": {
          "base_uri": "https://localhost:8080/"
        },
        "id": "eW-aUYdTgesy",
        "outputId": "11d82888-718e-4f62-d836-965a405f3d6a"
      },
      "execution_count": null,
      "outputs": [
        {
          "output_type": "execute_result",
          "data": {
            "text/plain": [
              "array([ 0,  1, 18,  2, 21,  8,  3,  4, 10, 22,  7,  5, 11, 14,  9,  6, 13,\n",
              "       12])"
            ]
          },
          "metadata": {},
          "execution_count": 51
        }
      ]
    },
    {
      "cell_type": "code",
      "source": [
        "ac_filter[['bodypart_id','result_id' ,'action_distance']].loc[(ac_filter['player_id']==9637)&(ac_filter['type_id']==0)].describe()\n"
      ],
      "metadata": {
        "colab": {
          "base_uri": "https://localhost:8080/",
          "height": 300
        },
        "id": "ktAzeg_jcXOI",
        "outputId": "de9d6f61-23db-4a37-9d1c-6c5f8e5f6520"
      },
      "execution_count": null,
      "outputs": [
        {
          "output_type": "execute_result",
          "data": {
            "text/plain": [
              "       bodypart_id  result_id  action_distance\n",
              "count         14.0  14.000000        14.000000\n",
              "mean           0.0   0.785714        22.802137\n",
              "std            0.0   0.425815        29.956768\n",
              "min            0.0   0.000000         5.540406\n",
              "25%            0.0   1.000000         7.801807\n",
              "50%            0.0   1.000000        10.090470\n",
              "75%            0.0   1.000000        14.578724\n",
              "max            0.0   1.000000       107.592402"
            ],
            "text/html": [
              "\n",
              "  <div id=\"df-03791010-26e5-4de3-addd-f81e8b23978a\">\n",
              "    <div class=\"colab-df-container\">\n",
              "      <div>\n",
              "<style scoped>\n",
              "    .dataframe tbody tr th:only-of-type {\n",
              "        vertical-align: middle;\n",
              "    }\n",
              "\n",
              "    .dataframe tbody tr th {\n",
              "        vertical-align: top;\n",
              "    }\n",
              "\n",
              "    .dataframe thead th {\n",
              "        text-align: right;\n",
              "    }\n",
              "</style>\n",
              "<table border=\"1\" class=\"dataframe\">\n",
              "  <thead>\n",
              "    <tr style=\"text-align: right;\">\n",
              "      <th></th>\n",
              "      <th>bodypart_id</th>\n",
              "      <th>result_id</th>\n",
              "      <th>action_distance</th>\n",
              "    </tr>\n",
              "  </thead>\n",
              "  <tbody>\n",
              "    <tr>\n",
              "      <th>count</th>\n",
              "      <td>14.0</td>\n",
              "      <td>14.000000</td>\n",
              "      <td>14.000000</td>\n",
              "    </tr>\n",
              "    <tr>\n",
              "      <th>mean</th>\n",
              "      <td>0.0</td>\n",
              "      <td>0.785714</td>\n",
              "      <td>22.802137</td>\n",
              "    </tr>\n",
              "    <tr>\n",
              "      <th>std</th>\n",
              "      <td>0.0</td>\n",
              "      <td>0.425815</td>\n",
              "      <td>29.956768</td>\n",
              "    </tr>\n",
              "    <tr>\n",
              "      <th>min</th>\n",
              "      <td>0.0</td>\n",
              "      <td>0.000000</td>\n",
              "      <td>5.540406</td>\n",
              "    </tr>\n",
              "    <tr>\n",
              "      <th>25%</th>\n",
              "      <td>0.0</td>\n",
              "      <td>1.000000</td>\n",
              "      <td>7.801807</td>\n",
              "    </tr>\n",
              "    <tr>\n",
              "      <th>50%</th>\n",
              "      <td>0.0</td>\n",
              "      <td>1.000000</td>\n",
              "      <td>10.090470</td>\n",
              "    </tr>\n",
              "    <tr>\n",
              "      <th>75%</th>\n",
              "      <td>0.0</td>\n",
              "      <td>1.000000</td>\n",
              "      <td>14.578724</td>\n",
              "    </tr>\n",
              "    <tr>\n",
              "      <th>max</th>\n",
              "      <td>0.0</td>\n",
              "      <td>1.000000</td>\n",
              "      <td>107.592402</td>\n",
              "    </tr>\n",
              "  </tbody>\n",
              "</table>\n",
              "</div>\n",
              "      <button class=\"colab-df-convert\" onclick=\"convertToInteractive('df-03791010-26e5-4de3-addd-f81e8b23978a')\"\n",
              "              title=\"Convert this dataframe to an interactive table.\"\n",
              "              style=\"display:none;\">\n",
              "        \n",
              "  <svg xmlns=\"http://www.w3.org/2000/svg\" height=\"24px\"viewBox=\"0 0 24 24\"\n",
              "       width=\"24px\">\n",
              "    <path d=\"M0 0h24v24H0V0z\" fill=\"none\"/>\n",
              "    <path d=\"M18.56 5.44l.94 2.06.94-2.06 2.06-.94-2.06-.94-.94-2.06-.94 2.06-2.06.94zm-11 1L8.5 8.5l.94-2.06 2.06-.94-2.06-.94L8.5 2.5l-.94 2.06-2.06.94zm10 10l.94 2.06.94-2.06 2.06-.94-2.06-.94-.94-2.06-.94 2.06-2.06.94z\"/><path d=\"M17.41 7.96l-1.37-1.37c-.4-.4-.92-.59-1.43-.59-.52 0-1.04.2-1.43.59L10.3 9.45l-7.72 7.72c-.78.78-.78 2.05 0 2.83L4 21.41c.39.39.9.59 1.41.59.51 0 1.02-.2 1.41-.59l7.78-7.78 2.81-2.81c.8-.78.8-2.07 0-2.86zM5.41 20L4 18.59l7.72-7.72 1.47 1.35L5.41 20z\"/>\n",
              "  </svg>\n",
              "      </button>\n",
              "      \n",
              "  <style>\n",
              "    .colab-df-container {\n",
              "      display:flex;\n",
              "      flex-wrap:wrap;\n",
              "      gap: 12px;\n",
              "    }\n",
              "\n",
              "    .colab-df-convert {\n",
              "      background-color: #E8F0FE;\n",
              "      border: none;\n",
              "      border-radius: 50%;\n",
              "      cursor: pointer;\n",
              "      display: none;\n",
              "      fill: #1967D2;\n",
              "      height: 32px;\n",
              "      padding: 0 0 0 0;\n",
              "      width: 32px;\n",
              "    }\n",
              "\n",
              "    .colab-df-convert:hover {\n",
              "      background-color: #E2EBFA;\n",
              "      box-shadow: 0px 1px 2px rgba(60, 64, 67, 0.3), 0px 1px 3px 1px rgba(60, 64, 67, 0.15);\n",
              "      fill: #174EA6;\n",
              "    }\n",
              "\n",
              "    [theme=dark] .colab-df-convert {\n",
              "      background-color: #3B4455;\n",
              "      fill: #D2E3FC;\n",
              "    }\n",
              "\n",
              "    [theme=dark] .colab-df-convert:hover {\n",
              "      background-color: #434B5C;\n",
              "      box-shadow: 0px 1px 3px 1px rgba(0, 0, 0, 0.15);\n",
              "      filter: drop-shadow(0px 1px 2px rgba(0, 0, 0, 0.3));\n",
              "      fill: #FFFFFF;\n",
              "    }\n",
              "  </style>\n",
              "\n",
              "      <script>\n",
              "        const buttonEl =\n",
              "          document.querySelector('#df-03791010-26e5-4de3-addd-f81e8b23978a button.colab-df-convert');\n",
              "        buttonEl.style.display =\n",
              "          google.colab.kernel.accessAllowed ? 'block' : 'none';\n",
              "\n",
              "        async function convertToInteractive(key) {\n",
              "          const element = document.querySelector('#df-03791010-26e5-4de3-addd-f81e8b23978a');\n",
              "          const dataTable =\n",
              "            await google.colab.kernel.invokeFunction('convertToInteractive',\n",
              "                                                     [key], {});\n",
              "          if (!dataTable) return;\n",
              "\n",
              "          const docLinkHtml = 'Like what you see? Visit the ' +\n",
              "            '<a target=\"_blank\" href=https://colab.research.google.com/notebooks/data_table.ipynb>data table notebook</a>'\n",
              "            + ' to learn more about interactive tables.';\n",
              "          element.innerHTML = '';\n",
              "          dataTable['output_type'] = 'display_data';\n",
              "          await google.colab.output.renderOutput(dataTable, element);\n",
              "          const docLink = document.createElement('div');\n",
              "          docLink.innerHTML = docLinkHtml;\n",
              "          element.appendChild(docLink);\n",
              "        }\n",
              "      </script>\n",
              "    </div>\n",
              "  </div>\n",
              "  "
            ]
          },
          "metadata": {},
          "execution_count": 50
        }
      ]
    },
    {
      "cell_type": "code",
      "source": [
        "ac_filter = ac_filter.drop([\"start_x\"\t,\"start_y\"\t,\"end_x\"\t,\"end_y\"] ,axis=1)\n",
        "ac_filter.head()"
      ],
      "metadata": {
        "colab": {
          "base_uri": "https://localhost:8080/",
          "height": 206
        },
        "id": "OXVnsqp4Xty8",
        "outputId": "6237bcd6-3daa-4ea2-cb75-09d2c08f9244"
      },
      "execution_count": null,
      "outputs": [
        {
          "output_type": "execute_result",
          "data": {
            "text/plain": [
              "   player_id  bodypart_id  type_id  result_id  action_distance\n",
              "0       9637            0        0          1        11.036757\n",
              "1       8351            0        0          1        20.427004\n",
              "2       9285            0        0          1        13.213629\n",
              "3     239411            0        0          1        36.775156\n",
              "4       9637            0        0          1         8.590838"
            ],
            "text/html": [
              "\n",
              "  <div id=\"df-6e38b383-8959-4126-9ef8-ff982b564610\">\n",
              "    <div class=\"colab-df-container\">\n",
              "      <div>\n",
              "<style scoped>\n",
              "    .dataframe tbody tr th:only-of-type {\n",
              "        vertical-align: middle;\n",
              "    }\n",
              "\n",
              "    .dataframe tbody tr th {\n",
              "        vertical-align: top;\n",
              "    }\n",
              "\n",
              "    .dataframe thead th {\n",
              "        text-align: right;\n",
              "    }\n",
              "</style>\n",
              "<table border=\"1\" class=\"dataframe\">\n",
              "  <thead>\n",
              "    <tr style=\"text-align: right;\">\n",
              "      <th></th>\n",
              "      <th>player_id</th>\n",
              "      <th>bodypart_id</th>\n",
              "      <th>type_id</th>\n",
              "      <th>result_id</th>\n",
              "      <th>action_distance</th>\n",
              "    </tr>\n",
              "  </thead>\n",
              "  <tbody>\n",
              "    <tr>\n",
              "      <th>0</th>\n",
              "      <td>9637</td>\n",
              "      <td>0</td>\n",
              "      <td>0</td>\n",
              "      <td>1</td>\n",
              "      <td>11.036757</td>\n",
              "    </tr>\n",
              "    <tr>\n",
              "      <th>1</th>\n",
              "      <td>8351</td>\n",
              "      <td>0</td>\n",
              "      <td>0</td>\n",
              "      <td>1</td>\n",
              "      <td>20.427004</td>\n",
              "    </tr>\n",
              "    <tr>\n",
              "      <th>2</th>\n",
              "      <td>9285</td>\n",
              "      <td>0</td>\n",
              "      <td>0</td>\n",
              "      <td>1</td>\n",
              "      <td>13.213629</td>\n",
              "    </tr>\n",
              "    <tr>\n",
              "      <th>3</th>\n",
              "      <td>239411</td>\n",
              "      <td>0</td>\n",
              "      <td>0</td>\n",
              "      <td>1</td>\n",
              "      <td>36.775156</td>\n",
              "    </tr>\n",
              "    <tr>\n",
              "      <th>4</th>\n",
              "      <td>9637</td>\n",
              "      <td>0</td>\n",
              "      <td>0</td>\n",
              "      <td>1</td>\n",
              "      <td>8.590838</td>\n",
              "    </tr>\n",
              "  </tbody>\n",
              "</table>\n",
              "</div>\n",
              "      <button class=\"colab-df-convert\" onclick=\"convertToInteractive('df-6e38b383-8959-4126-9ef8-ff982b564610')\"\n",
              "              title=\"Convert this dataframe to an interactive table.\"\n",
              "              style=\"display:none;\">\n",
              "        \n",
              "  <svg xmlns=\"http://www.w3.org/2000/svg\" height=\"24px\"viewBox=\"0 0 24 24\"\n",
              "       width=\"24px\">\n",
              "    <path d=\"M0 0h24v24H0V0z\" fill=\"none\"/>\n",
              "    <path d=\"M18.56 5.44l.94 2.06.94-2.06 2.06-.94-2.06-.94-.94-2.06-.94 2.06-2.06.94zm-11 1L8.5 8.5l.94-2.06 2.06-.94-2.06-.94L8.5 2.5l-.94 2.06-2.06.94zm10 10l.94 2.06.94-2.06 2.06-.94-2.06-.94-.94-2.06-.94 2.06-2.06.94z\"/><path d=\"M17.41 7.96l-1.37-1.37c-.4-.4-.92-.59-1.43-.59-.52 0-1.04.2-1.43.59L10.3 9.45l-7.72 7.72c-.78.78-.78 2.05 0 2.83L4 21.41c.39.39.9.59 1.41.59.51 0 1.02-.2 1.41-.59l7.78-7.78 2.81-2.81c.8-.78.8-2.07 0-2.86zM5.41 20L4 18.59l7.72-7.72 1.47 1.35L5.41 20z\"/>\n",
              "  </svg>\n",
              "      </button>\n",
              "      \n",
              "  <style>\n",
              "    .colab-df-container {\n",
              "      display:flex;\n",
              "      flex-wrap:wrap;\n",
              "      gap: 12px;\n",
              "    }\n",
              "\n",
              "    .colab-df-convert {\n",
              "      background-color: #E8F0FE;\n",
              "      border: none;\n",
              "      border-radius: 50%;\n",
              "      cursor: pointer;\n",
              "      display: none;\n",
              "      fill: #1967D2;\n",
              "      height: 32px;\n",
              "      padding: 0 0 0 0;\n",
              "      width: 32px;\n",
              "    }\n",
              "\n",
              "    .colab-df-convert:hover {\n",
              "      background-color: #E2EBFA;\n",
              "      box-shadow: 0px 1px 2px rgba(60, 64, 67, 0.3), 0px 1px 3px 1px rgba(60, 64, 67, 0.15);\n",
              "      fill: #174EA6;\n",
              "    }\n",
              "\n",
              "    [theme=dark] .colab-df-convert {\n",
              "      background-color: #3B4455;\n",
              "      fill: #D2E3FC;\n",
              "    }\n",
              "\n",
              "    [theme=dark] .colab-df-convert:hover {\n",
              "      background-color: #434B5C;\n",
              "      box-shadow: 0px 1px 3px 1px rgba(0, 0, 0, 0.15);\n",
              "      filter: drop-shadow(0px 1px 2px rgba(0, 0, 0, 0.3));\n",
              "      fill: #FFFFFF;\n",
              "    }\n",
              "  </style>\n",
              "\n",
              "      <script>\n",
              "        const buttonEl =\n",
              "          document.querySelector('#df-6e38b383-8959-4126-9ef8-ff982b564610 button.colab-df-convert');\n",
              "        buttonEl.style.display =\n",
              "          google.colab.kernel.accessAllowed ? 'block' : 'none';\n",
              "\n",
              "        async function convertToInteractive(key) {\n",
              "          const element = document.querySelector('#df-6e38b383-8959-4126-9ef8-ff982b564610');\n",
              "          const dataTable =\n",
              "            await google.colab.kernel.invokeFunction('convertToInteractive',\n",
              "                                                     [key], {});\n",
              "          if (!dataTable) return;\n",
              "\n",
              "          const docLinkHtml = 'Like what you see? Visit the ' +\n",
              "            '<a target=\"_blank\" href=https://colab.research.google.com/notebooks/data_table.ipynb>data table notebook</a>'\n",
              "            + ' to learn more about interactive tables.';\n",
              "          element.innerHTML = '';\n",
              "          dataTable['output_type'] = 'display_data';\n",
              "          await google.colab.output.renderOutput(dataTable, element);\n",
              "          const docLink = document.createElement('div');\n",
              "          docLink.innerHTML = docLinkHtml;\n",
              "          element.appendChild(docLink);\n",
              "        }\n",
              "      </script>\n",
              "    </div>\n",
              "  </div>\n",
              "  "
            ]
          },
          "metadata": {},
          "execution_count": 46
        }
      ]
    },
    {
      "cell_type": "code",
      "source": [],
      "metadata": {
        "colab": {
          "base_uri": "https://localhost:8080/",
          "height": 401
        },
        "id": "sWGFLyDgQq57",
        "outputId": "a92522dc-6acc-45ca-fc1a-7de880ccd842"
      },
      "execution_count": null,
      "outputs": [
        {
          "output_type": "stream",
          "name": "stdout",
          "text": [
            "['player_id', 'start_x', 'start_y', 'end_x', 'end_y', 'bodypart_id', 'type_id', 'result_id', 'action_distance', 0, 2, 1, 3, 0, 1, 18, 2, 21, 8, 3, 4, 10, 22, 7, 5, 11, 14, 9, 6, 13, 12, 19]\n"
          ]
        },
        {
          "output_type": "error",
          "ename": "ValueError",
          "evalue": "ignored",
          "traceback": [
            "\u001b[0;31m---------------------------------------------------------------------------\u001b[0m",
            "\u001b[0;31mValueError\u001b[0m                                Traceback (most recent call last)",
            "\u001b[0;32m<ipython-input-60-3b6ef4696abe>\u001b[0m in \u001b[0;36m<module>\u001b[0;34m\u001b[0m\n\u001b[1;32m      5\u001b[0m \u001b[0mx\u001b[0m\u001b[0;34m.\u001b[0m\u001b[0mextend\u001b[0m\u001b[0;34m(\u001b[0m\u001b[0mtype_id\u001b[0m\u001b[0;34m)\u001b[0m\u001b[0;34m\u001b[0m\u001b[0;34m\u001b[0m\u001b[0m\n\u001b[1;32m      6\u001b[0m \u001b[0mprint\u001b[0m\u001b[0;34m(\u001b[0m\u001b[0mx\u001b[0m\u001b[0;34m)\u001b[0m\u001b[0;34m\u001b[0m\u001b[0;34m\u001b[0m\u001b[0m\n\u001b[0;32m----> 7\u001b[0;31m \u001b[0mac_filter\u001b[0m\u001b[0;34m.\u001b[0m\u001b[0mcolumns\u001b[0m \u001b[0;34m=\u001b[0m \u001b[0mx\u001b[0m\u001b[0;34m\u001b[0m\u001b[0;34m\u001b[0m\u001b[0m\n\u001b[0m",
            "\u001b[0;32m/usr/local/lib/python3.8/dist-packages/pandas/core/generic.py\u001b[0m in \u001b[0;36m__setattr__\u001b[0;34m(self, name, value)\u001b[0m\n\u001b[1;32m   5498\u001b[0m         \u001b[0;32mtry\u001b[0m\u001b[0;34m:\u001b[0m\u001b[0;34m\u001b[0m\u001b[0;34m\u001b[0m\u001b[0m\n\u001b[1;32m   5499\u001b[0m             \u001b[0mobject\u001b[0m\u001b[0;34m.\u001b[0m\u001b[0m__getattribute__\u001b[0m\u001b[0;34m(\u001b[0m\u001b[0mself\u001b[0m\u001b[0;34m,\u001b[0m \u001b[0mname\u001b[0m\u001b[0;34m)\u001b[0m\u001b[0;34m\u001b[0m\u001b[0;34m\u001b[0m\u001b[0m\n\u001b[0;32m-> 5500\u001b[0;31m             \u001b[0;32mreturn\u001b[0m \u001b[0mobject\u001b[0m\u001b[0;34m.\u001b[0m\u001b[0m__setattr__\u001b[0m\u001b[0;34m(\u001b[0m\u001b[0mself\u001b[0m\u001b[0;34m,\u001b[0m \u001b[0mname\u001b[0m\u001b[0;34m,\u001b[0m \u001b[0mvalue\u001b[0m\u001b[0;34m)\u001b[0m\u001b[0;34m\u001b[0m\u001b[0;34m\u001b[0m\u001b[0m\n\u001b[0m\u001b[1;32m   5501\u001b[0m         \u001b[0;32mexcept\u001b[0m \u001b[0mAttributeError\u001b[0m\u001b[0;34m:\u001b[0m\u001b[0;34m\u001b[0m\u001b[0;34m\u001b[0m\u001b[0m\n\u001b[1;32m   5502\u001b[0m             \u001b[0;32mpass\u001b[0m\u001b[0;34m\u001b[0m\u001b[0;34m\u001b[0m\u001b[0m\n",
            "\u001b[0;32m/usr/local/lib/python3.8/dist-packages/pandas/_libs/properties.pyx\u001b[0m in \u001b[0;36mpandas._libs.properties.AxisProperty.__set__\u001b[0;34m()\u001b[0m\n",
            "\u001b[0;32m/usr/local/lib/python3.8/dist-packages/pandas/core/generic.py\u001b[0m in \u001b[0;36m_set_axis\u001b[0;34m(self, axis, labels)\u001b[0m\n\u001b[1;32m    764\u001b[0m     \u001b[0;32mdef\u001b[0m \u001b[0m_set_axis\u001b[0m\u001b[0;34m(\u001b[0m\u001b[0mself\u001b[0m\u001b[0;34m,\u001b[0m \u001b[0maxis\u001b[0m\u001b[0;34m:\u001b[0m \u001b[0mint\u001b[0m\u001b[0;34m,\u001b[0m \u001b[0mlabels\u001b[0m\u001b[0;34m:\u001b[0m \u001b[0mIndex\u001b[0m\u001b[0;34m)\u001b[0m \u001b[0;34m->\u001b[0m \u001b[0;32mNone\u001b[0m\u001b[0;34m:\u001b[0m\u001b[0;34m\u001b[0m\u001b[0;34m\u001b[0m\u001b[0m\n\u001b[1;32m    765\u001b[0m         \u001b[0mlabels\u001b[0m \u001b[0;34m=\u001b[0m \u001b[0mensure_index\u001b[0m\u001b[0;34m(\u001b[0m\u001b[0mlabels\u001b[0m\u001b[0;34m)\u001b[0m\u001b[0;34m\u001b[0m\u001b[0;34m\u001b[0m\u001b[0m\n\u001b[0;32m--> 766\u001b[0;31m         \u001b[0mself\u001b[0m\u001b[0;34m.\u001b[0m\u001b[0m_mgr\u001b[0m\u001b[0;34m.\u001b[0m\u001b[0mset_axis\u001b[0m\u001b[0;34m(\u001b[0m\u001b[0maxis\u001b[0m\u001b[0;34m,\u001b[0m \u001b[0mlabels\u001b[0m\u001b[0;34m)\u001b[0m\u001b[0;34m\u001b[0m\u001b[0;34m\u001b[0m\u001b[0m\n\u001b[0m\u001b[1;32m    767\u001b[0m         \u001b[0mself\u001b[0m\u001b[0;34m.\u001b[0m\u001b[0m_clear_item_cache\u001b[0m\u001b[0;34m(\u001b[0m\u001b[0;34m)\u001b[0m\u001b[0;34m\u001b[0m\u001b[0;34m\u001b[0m\u001b[0m\n\u001b[1;32m    768\u001b[0m \u001b[0;34m\u001b[0m\u001b[0m\n",
            "\u001b[0;32m/usr/local/lib/python3.8/dist-packages/pandas/core/internals/managers.py\u001b[0m in \u001b[0;36mset_axis\u001b[0;34m(self, axis, new_labels)\u001b[0m\n\u001b[1;32m    214\u001b[0m     \u001b[0;32mdef\u001b[0m \u001b[0mset_axis\u001b[0m\u001b[0;34m(\u001b[0m\u001b[0mself\u001b[0m\u001b[0;34m,\u001b[0m \u001b[0maxis\u001b[0m\u001b[0;34m:\u001b[0m \u001b[0mint\u001b[0m\u001b[0;34m,\u001b[0m \u001b[0mnew_labels\u001b[0m\u001b[0;34m:\u001b[0m \u001b[0mIndex\u001b[0m\u001b[0;34m)\u001b[0m \u001b[0;34m->\u001b[0m \u001b[0;32mNone\u001b[0m\u001b[0;34m:\u001b[0m\u001b[0;34m\u001b[0m\u001b[0;34m\u001b[0m\u001b[0m\n\u001b[1;32m    215\u001b[0m         \u001b[0;31m# Caller is responsible for ensuring we have an Index object.\u001b[0m\u001b[0;34m\u001b[0m\u001b[0;34m\u001b[0m\u001b[0;34m\u001b[0m\u001b[0m\n\u001b[0;32m--> 216\u001b[0;31m         \u001b[0mself\u001b[0m\u001b[0;34m.\u001b[0m\u001b[0m_validate_set_axis\u001b[0m\u001b[0;34m(\u001b[0m\u001b[0maxis\u001b[0m\u001b[0;34m,\u001b[0m \u001b[0mnew_labels\u001b[0m\u001b[0;34m)\u001b[0m\u001b[0;34m\u001b[0m\u001b[0;34m\u001b[0m\u001b[0m\n\u001b[0m\u001b[1;32m    217\u001b[0m         \u001b[0mself\u001b[0m\u001b[0;34m.\u001b[0m\u001b[0maxes\u001b[0m\u001b[0;34m[\u001b[0m\u001b[0maxis\u001b[0m\u001b[0;34m]\u001b[0m \u001b[0;34m=\u001b[0m \u001b[0mnew_labels\u001b[0m\u001b[0;34m\u001b[0m\u001b[0;34m\u001b[0m\u001b[0m\n\u001b[1;32m    218\u001b[0m \u001b[0;34m\u001b[0m\u001b[0m\n",
            "\u001b[0;32m/usr/local/lib/python3.8/dist-packages/pandas/core/internals/base.py\u001b[0m in \u001b[0;36m_validate_set_axis\u001b[0;34m(self, axis, new_labels)\u001b[0m\n\u001b[1;32m     55\u001b[0m \u001b[0;34m\u001b[0m\u001b[0m\n\u001b[1;32m     56\u001b[0m         \u001b[0;32melif\u001b[0m \u001b[0mnew_len\u001b[0m \u001b[0;34m!=\u001b[0m \u001b[0mold_len\u001b[0m\u001b[0;34m:\u001b[0m\u001b[0;34m\u001b[0m\u001b[0;34m\u001b[0m\u001b[0m\n\u001b[0;32m---> 57\u001b[0;31m             raise ValueError(\n\u001b[0m\u001b[1;32m     58\u001b[0m                 \u001b[0;34mf\"Length mismatch: Expected axis has {old_len} elements, new \"\u001b[0m\u001b[0;34m\u001b[0m\u001b[0;34m\u001b[0m\u001b[0m\n\u001b[1;32m     59\u001b[0m                 \u001b[0;34mf\"values have {new_len} elements\"\u001b[0m\u001b[0;34m\u001b[0m\u001b[0;34m\u001b[0m\u001b[0m\n",
            "\u001b[0;31mValueError\u001b[0m: Length mismatch: Expected axis has 9 elements, new values have 32 elements"
          ]
        }
      ]
    },
    {
      "cell_type": "code",
      "source": [
        "ac_filter[\"type_id\"].unique()"
      ],
      "metadata": {
        "colab": {
          "base_uri": "https://localhost:8080/"
        },
        "id": "vvxyfelOaAJs",
        "outputId": "55fa8ed3-5022-471d-801b-237bf905a7ad"
      },
      "execution_count": null,
      "outputs": [
        {
          "output_type": "execute_result",
          "data": {
            "text/plain": [
              "array([ 0,  1, 18,  2, 21,  8,  3,  4, 10, 22,  7,  5, 11, 14,  9,  6, 13,\n",
              "       12])"
            ]
          },
          "metadata": {},
          "execution_count": 54
        }
      ]
    }
  ],
  "metadata": {
    "kernelspec": {
      "display_name": "Python 3 (ipykernel)",
      "language": "python",
      "name": "python3"
    },
    "language_info": {
      "codemirror_mode": {
        "name": "ipython",
        "version": 3
      },
      "file_extension": ".py",
      "mimetype": "text/x-python",
      "name": "python",
      "nbconvert_exporter": "python",
      "pygments_lexer": "ipython3",
      "version": "3.10.8"
    },
    "vscode": {
      "interpreter": {
        "hash": "aee8b7b246df8f9039afb4144a1f6fd8d2ca17a180786b69acc140d282b71a49"
      }
    },
    "colab": {
      "provenance": [],
      "toc_visible": true,
      "include_colab_link": true
    }
  },
  "nbformat": 4,
  "nbformat_minor": 0
}